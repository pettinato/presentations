{
 "cells": [
  {
   "cell_type": "markdown",
   "metadata": {
    "slideshow": {
     "slide_type": "skip"
    }
   },
   "source": [
    "Summary\n",
    "\n",
    "TODO"
   ]
  },
  {
   "cell_type": "markdown",
   "metadata": {
    "slideshow": {
     "slide_type": "slide"
    }
   },
   "source": [
    "# Great! You know how to build models! Now what?\n",
    "\n",
    "### Stephen Pettinato\n",
    "### 2019-11-10\n",
    "\n",
    "# TODO UPDATE DATE"
   ]
  },
  {
   "cell_type": "markdown",
   "metadata": {
    "slideshow": {
     "slide_type": "subslide"
    }
   },
   "source": [
    "# Bio\n",
    "\n",
    "### Degrees: BA Mathematics, MA Statistics, MS Computer Science\n",
    "\n",
    "### Work History: Software Engineer, Data Engineer, Data Scientist\n",
    "\n",
    "## Currently a Senior Data Scientist at FabFitFun\n"
   ]
  },
  {
   "cell_type": "markdown",
   "metadata": {
    "slideshow": {
     "slide_type": "slide"
    }
   },
   "source": [
    "# Outline\n",
    "1. Motivation\n",
    "2. What skills does a Data Scientist require?\n",
    "3. How does a Data Scientist work with business and product teams?\n",
    "4. "
   ]
  },
  {
   "cell_type": "markdown",
   "metadata": {
    "slideshow": {
     "slide_type": "slide"
    }
   },
   "source": [
    "How do I as a Data Scientist produce value for the business?"
   ]
  },
  {
   "cell_type": "markdown",
   "metadata": {},
   "source": [
    "What Skill do a Data Scientist need?\n",
    "\n",
    "Statistics and ML\n",
    "1. ANOVA\n",
    "2. Bayesian Modeling\n",
    "3. Hypothesis Testing\n",
    "4. Mixed Effects Modeling\n",
    "5. Simulations\n",
    "6. Probability Distributions\n",
    "7. Regression\n",
    "8. Sampling\n",
    "9. Visualizations\n",
    "10. Spark\n",
    "11. Neural Nets\n",
    "12. Decision Trees\n",
    "15. Dimensionality Reduction\n",
    "16. Clustering\n",
    "17. Jupyter Notebooks\n",
    "18. AB Testing\n",
    "19. KPIs\n",
    "20. SQL, Python, R\n",
    "\n",
    "Software and Data Engineering\n",
    "1. SQL\n",
    "2. Design Patterns\n",
    "3. Git\n",
    "4. Software Process\n",
    "5. Unit/Integration Testing\n",
    "6. DevOps Patterns\n",
    "7. Credentials and Authentication\n",
    "8. Security\n",
    "9. Data Goverence\n",
    "10. Spark\n",
    "11. Object Oriented Programming\n",
    "12. Functional Programming\n",
    "13. Low Level Language - C++/Java/C\n",
    "14. Search\n",
    "15. Distributed and Parallel Computing\n",
    "16. Web Frameworks - React, JS, Angular\n",
    "17. Agile Processes\n",
    "18. Deployment Processes\n",
    "19. NoSQL Data Bases, Redis, Cassndra\n",
    "20. \n",
    "\n",
    "Business and Product\n",
    "1. What we are selling\n",
    "2. Why we are selling it\n",
    "3. How people interact with the website\n",
    "4. How people view our brand\n",
    "5. How people interact with emails\n",
    "6. What is in the emails we send\n",
    "7. When do we send emails\n",
    "8. How invested our our Members\n",
    "9. What do our investors care about\n",
    "10. What are the main objectives of our team and org\n",
    "11. What are our values\n",
    "12. Data Goverence\n",
    "13. KPIs\n",
    "14. What products are we going to sell in the future\n",
    "15. How do we choose products\n",
    "16. Who are we selling to now and in the future\n",
    "17. Which projects give the most impact\n",
    "18. \n",
    "19. \n",
    "20. "
   ]
  },
  {
   "cell_type": "markdown",
   "metadata": {
    "slideshow": {
     "slide_type": "slide"
    }
   },
   "source": [
    "So, this talk is focused on **Business and Product** skills"
   ]
  },
  {
   "cell_type": "markdown",
   "metadata": {},
   "source": [
    "![alt text](DE_ML_Product_DS.jpg)"
   ]
  },
  {
   "cell_type": "markdown",
   "metadata": {
    "slideshow": {
     "slide_type": "slide"
    }
   },
   "source": [
    "How do we best fulful our obligations to our business partners?\n",
    "\n",
    "Lunches, Coffee, chats.  Find out what problems they have and work towards solutions.\n",
    "\n",
    "Focus on 80-20, lots of business problems can be approached with a single SQL statement.  Definitely doesn't get us all the way towards an optimal solution, but can give a fast win with a scalable approach.\n",
    "\n",
    "A business person doesn't know what regression is, but they do want to know what we are doing.  They need to be able to trust us and that doesn't mean that we should say \"trust us\", that's not enough.\n"
   ]
  },
  {
   "cell_type": "markdown",
   "metadata": {
    "slideshow": {
     "slide_type": "slide"
    }
   },
   "source": []
  },
  {
   "cell_type": "markdown",
   "metadata": {
    "slideshow": {
     "slide_type": "slide"
    }
   },
   "source": [
    "A lot of people live in the intersection of Math and SE\n",
    "\n",
    "That's a good place to be"
   ]
  },
  {
   "cell_type": "markdown",
   "metadata": {
    "slideshow": {
     "slide_type": "slide"
    }
   },
   "source": [
    "# Questions?"
   ]
  },
  {
   "cell_type": "code",
   "execution_count": null,
   "metadata": {},
   "outputs": [],
   "source": []
  }
 ],
 "metadata": {
  "celltoolbar": "Slideshow",
  "kernelspec": {
   "display_name": "Python 3",
   "language": "python",
   "name": "python3"
  },
  "language_info": {
   "codemirror_mode": {
    "name": "ipython",
    "version": 3
   },
   "file_extension": ".py",
   "mimetype": "text/x-python",
   "name": "python",
   "nbconvert_exporter": "python",
   "pygments_lexer": "ipython3",
   "version": "3.7.3"
  }
 },
 "nbformat": 4,
 "nbformat_minor": 2
}
