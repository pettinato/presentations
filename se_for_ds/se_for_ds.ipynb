{
 "cells": [
  {
   "cell_type": "markdown",
   "metadata": {
    "slideshow": {
     "slide_type": "skip"
    }
   },
   "source": [
    "Summary\n",
    "\n",
    "Software Engineering Overview for Data Scientists by Stephen Pettinato, Data Scientist at FabFitFun.com\n",
    "\n",
    "There are lots of Software Engineering principles floating around that Data Scientists can leverage in their day to day work.  This talk organizes all these ideas to illustrate the _why_ of it all.  "
   ]
  },
  {
   "cell_type": "markdown",
   "metadata": {
    "slideshow": {
     "slide_type": "slide"
    }
   },
   "source": [
    "# Software Engineering for Data Scientists\n",
    "## or\n",
    "## Why can't I just build models?\n",
    "\n",
    "### Stephen Pettinato\n",
    "### 2020-02-10"
   ]
  },
  {
   "cell_type": "markdown",
   "metadata": {
    "slideshow": {
     "slide_type": "subslide"
    }
   },
   "source": [
    "# Bio\n",
    "\n",
    "### Degrees: BA Mathematics, MA Statistics, MS Computer Science\n",
    "\n",
    "### Work History: Software Engineer, Data Engineer, Data Scientist\n",
    "\n",
    "## Currently a Senior Data Scientist at FabFitFun\n",
    "\n",
    "<img src=\"https://static.fabfitfun.com/wp-content/uploads/2019/11/WI19_1572634027.8742_1572634028.4905.png\" alt=\"drawing\" style=\"width:400px;\"/>\n"
   ]
  },
  {
   "cell_type": "markdown",
   "metadata": {
    "slideshow": {
     "slide_type": "slide"
    }
   },
   "source": [
    "## This talk evolved over the last year from numerous questions around,\n",
    "\n",
    "## The model is done, but now I have to produce predictions?"
   ]
  },
  {
   "cell_type": "markdown",
   "metadata": {
    "slideshow": {
     "slide_type": "slide"
    }
   },
   "source": [
    "## Data Scientists produce predictions and insights\n",
    "\n",
    "## So, it's like this? right?\n",
    "\n",
    "<img src=\"https://images.pexels.com/photos/1181398/pexels-photo-1181398.jpeg?auto=compress&cs=tinysrgb&dpr=2&h=375&w=630\" alt=\"drawing\">\n"
   ]
  },
  {
   "cell_type": "markdown",
   "metadata": {
    "slideshow": {
     "slide_type": "slide"
    }
   },
   "source": [
    "## Oops, more like,\n",
    "\n",
    "## Data Scientists produce _code_ that produces predictions and insights\n",
    "\n",
    "<img src=\"https://www.jetbrains.com/pycharm/features/screenshots/survey-sciview.png\" alt=\"drawing\">\n"
   ]
  },
  {
   "cell_type": "markdown",
   "metadata": {
    "slideshow": {
     "slide_type": "slide"
    }
   },
   "source": [
    "## Ok, so people care about the code we write?"
   ]
  },
  {
   "cell_type": "markdown",
   "metadata": {
    "slideshow": {
     "slide_type": "fragment"
    }
   },
   "source": [
    "## No - people only care about the **predictions** and **insights**"
   ]
  },
  {
   "cell_type": "markdown",
   "metadata": {
    "slideshow": {
     "slide_type": "subslide"
    }
   },
   "source": [
    "### Basically it's the same with Software Engineers,\n",
    "\n",
    "### nobody cares about the code they write, they only care about **products** and **product features**\n",
    "\n",
    "### Software Engineers follow best practices to allow them to produce products and product features, \n",
    "* easily\n",
    "* consistently\n",
    "* reproducibly"
   ]
  },
  {
   "cell_type": "markdown",
   "metadata": {
    "slideshow": {
     "slide_type": "subslide"
    }
   },
   "source": [
    "### Software Engineering process\n",
    "1. Architecture\n",
    "2. POC\n",
    "3. Implementation\n",
    "4. Productionalization\n",
    "5. Support"
   ]
  },
  {
   "cell_type": "markdown",
   "metadata": {
    "slideshow": {
     "slide_type": "fragment"
    }
   },
   "source": [
    "### Data Scientist process\n",
    "1. Analysis/Problem Definition\n",
    "2. Modeling\n",
    "3. Productionalization\n",
    "4. Support"
   ]
  },
  {
   "cell_type": "markdown",
   "metadata": {
    "slideshow": {
     "slide_type": "fragment"
    }
   },
   "source": [
    "### The big difference here is that a SE can be pretty sure that their implementation will work, whereas a DS doesn't always know if the model will work well."
   ]
  },
  {
   "cell_type": "markdown",
   "metadata": {
    "slideshow": {
     "slide_type": "subslide"
    }
   },
   "source": [
    "## Iteration\n",
    "### Software Engineers have learned to iterate on problems.\n",
    "\n",
    "### What's the smallest item that can be delivered in the next 2 weeks?\n",
    "\n",
    "1. Architecture\n",
    "2. POC\n",
    "3. Implementation\n",
    "4. Productionalization\n",
    "5. Support"
   ]
  },
  {
   "cell_type": "markdown",
   "metadata": {
    "slideshow": {
     "slide_type": "subslide"
    }
   },
   "source": [
    "### Some considerations here are,\n",
    "#### An SE approach can sometimes work for models with a high likelihood of effectiveness\n",
    "#### Some DS work is universally useful such as tidying a dataset\n",
    "\n",
    "### By comparison, DS work can be exceptionally varied"
   ]
  },
  {
   "cell_type": "markdown",
   "metadata": {
    "slideshow": {
     "slide_type": "slide"
    }
   },
   "source": [
    "## Different Tasks require Different Skills\n",
    "\n",
    "### Depending on the task, put on a different hat\n",
    "\n",
    "1. If the task at hand is analysis, then put on your Analyst Hat\n",
    "2. If the task at hand is modeling, then put on your Machine Learning Hat\n",
    "3. etc.\n",
    "\n",
    "### Identify the task at hand and act with the proper role"
   ]
  },
  {
   "cell_type": "markdown",
   "metadata": {
    "slideshow": {
     "slide_type": "subslide"
    }
   },
   "source": [
    "### Data Scientist process\n",
    "\n",
    "<img src=\"table.png\" alt=\"drawing\">"
   ]
  },
  {
   "cell_type": "markdown",
   "metadata": {
    "slideshow": {
     "slide_type": "subslide"
    }
   },
   "source": [
    "## What are you trying to do?\n",
    "\n",
    "## What skills should you lean into for this task?\n",
    "\n",
    "* Product Manager\n",
    "* Analyst\n",
    "* Machine Learning Engineer\n",
    "* Software Engineer"
   ]
  },
  {
   "cell_type": "markdown",
   "metadata": {
    "slideshow": {
     "slide_type": "subslide"
    }
   },
   "source": [
    "### It can be hard to stick to a role\n",
    "\n",
    "### When doing productionalization, what if you find an anomaly in the dataset?"
   ]
  },
  {
   "cell_type": "markdown",
   "metadata": {
    "slideshow": {
     "slide_type": "fragment"
    }
   },
   "source": [
    "### This is one of the hardest problems in applied data science\n",
    "\n",
    "> If you are doing analysis, should you also be doing software engineering?\n",
    "\n",
    "> If you are doing productionalization, should you also be doing analysis?\n",
    "\n",
    "### Switching is fine, but it's impossible to do both at the same time"
   ]
  },
  {
   "cell_type": "markdown",
   "metadata": {
    "slideshow": {
     "slide_type": "slide"
    }
   },
   "source": [
    "# What can Data Scientists learn from Software Engineers _without_ becoming Engineers?"
   ]
  },
  {
   "cell_type": "markdown",
   "metadata": {
    "slideshow": {
     "slide_type": "fragment"
    }
   },
   "source": [
    "1. Generalization\n",
    "2. Reproducibility\n",
    "3. Automation"
   ]
  },
  {
   "cell_type": "markdown",
   "metadata": {
    "slideshow": {
     "slide_type": "slide"
    }
   },
   "source": [
    "## Generalization\n",
    "* As soon as this analysis on this time-range is finished, I'll be asked to analyze other time-ranges\n",
    "* As soon as I've built a model, I'll need to run it over different inputs for testing/validation"
   ]
  },
  {
   "cell_type": "markdown",
   "metadata": {
    "slideshow": {
     "slide_type": "fragment"
    }
   },
   "source": [
    "```python\n",
    "sql = \"\"\"\n",
    "    SELECT * \n",
    "    FROM atble\n",
    "    WHERE event_time IS BETWEEN('2020-01-10', '2020-01-20')\n",
    "\"\"\"\n",
    "\n",
    "# Then run analysis here\n",
    "```"
   ]
  },
  {
   "cell_type": "markdown",
   "metadata": {
    "slideshow": {
     "slide_type": "fragment"
    }
   },
   "source": [
    "```python\n",
    "start_time = '2020-01-10'\n",
    "end_time = '2020-01-20'\n",
    "sql = f\"\"\"\n",
    "    SELECT * \n",
    "    FROM atble \n",
    "    WHERE startdate IS BETWEEN('{start_time}', '{end_time}')\n",
    "\"\"\"\n",
    "\n",
    "# Then run analysis here\n",
    "```"
   ]
  },
  {
   "cell_type": "markdown",
   "metadata": {
    "slideshow": {
     "slide_type": "slide"
    }
   },
   "source": [
    "## Reproducibility\n",
    "\n",
    "## This is different depending on who you talk to.\n",
    "\n",
    "## Mostly this means\n",
    "* use a notebook with source control\n",
    "* that runs from production datasets"
   ]
  },
  {
   "cell_type": "markdown",
   "metadata": {
    "slideshow": {
     "slide_type": "fragment"
    }
   },
   "source": [
    "## i.e. If an analysis is cobbled together from 10 bits of untracked code, then it can't be redone\n",
    "\n",
    "## I've done this ☹️\n",
    "1. SQL -> file to get 6 different versions of the file\n",
    "2. Some bash/pandas to clean the file\n",
    "3. Produce some plots\n",
    "4. Store to a word doc"
   ]
  },
  {
   "cell_type": "markdown",
   "metadata": {
    "slideshow": {
     "slide_type": "subslide"
    }
   },
   "source": [
    "## Nowadays I do,"
   ]
  },
  {
   "cell_type": "markdown",
   "metadata": {
    "slideshow": {
     "slide_type": "fragment"
    }
   },
   "source": [
    "```python\n",
    "myfile_df = pd.read_csv('s3://mybucket/myfile.csv')\n",
    "mydb_df = pd.read_sql('SELECT * FROM atable')\n",
    "\n",
    "\n",
    "## transformations ##\n",
    "# Plots and results!\n",
    "```"
   ]
  },
  {
   "cell_type": "markdown",
   "metadata": {
    "slideshow": {
     "slide_type": "fragment"
    }
   },
   "source": [
    "```bash\n",
    "sh build_model.py --input_data s3://mybucket/inputdata.csv\n",
    "\n",
    "# instead of\n",
    "\n",
    "sh build_model.py\n",
    "```"
   ]
  },
  {
   "cell_type": "markdown",
   "metadata": {
    "slideshow": {
     "slide_type": "slide"
    }
   },
   "source": [
    "## Automation\n",
    "\n",
    "Once a model is built, it will have to be\n",
    "* Periodically Re-trained\n",
    "* Used to generate predictions"
   ]
  },
  {
   "cell_type": "markdown",
   "metadata": {
    "slideshow": {
     "slide_type": "fragment"
    }
   },
   "source": [
    "### Modeling doesn't mean building 1 model, it means building a system to build models"
   ]
  },
  {
   "cell_type": "markdown",
   "metadata": {
    "slideshow": {
     "slide_type": "slide"
    }
   },
   "source": [
    "## Caveat - Avoid Over-Optimization\n",
    "\n",
    "* Slow code is fine during Analysis and Modeling as rapid iteration is highly valued\n",
    "* For Productionalization, code has to meet some base level of speed\n",
    "\n",
    "\n",
    "### _It's easier to make correct code fast, than to make fast, correct code_"
   ]
  },
  {
   "cell_type": "markdown",
   "metadata": {
    "slideshow": {
     "slide_type": "slide"
    }
   },
   "source": [
    "# Software Engineering Best Practices"
   ]
  },
  {
   "cell_type": "markdown",
   "metadata": {
    "slideshow": {
     "slide_type": "subslide"
    }
   },
   "source": [
    "## The Joel Test - for Software Engineers\n",
    "\n",
    "1. Do you use source control?\n",
    "2. Can you make a build in one step?\n",
    "3. Do you make daily builds?\n",
    "4. Do you have a bug database?\n",
    "5. Do you fix bugs before writing new code?\n",
    "6. Do you have an up-to-date schedule?\n",
    "7. Do you have a spec?\n",
    "9. Do programmers have quiet working conditions?\n",
    "10. Do you use the best tools money can buy?\n",
    "11. Do you have testers?\n",
    "12. Do new candidates write code during their interview?\n",
    "13. Do you do hallway usability testing?\n",
    "\n",
    "https://www.joelonsoftware.com/2000/08/09/the-joel-test-12-steps-to-better-code/"
   ]
  },
  {
   "cell_type": "markdown",
   "metadata": {
    "slideshow": {
     "slide_type": "subslide"
    }
   },
   "source": [
    "### Data Scientists can learn a few items from the Joel Test\n",
    "1. Do you use source control?\n",
    "2. Can you make ~~a build~~ <span style=\"background-color: #FFFF00\">both models and predictions</span> in one step?\n",
    "3. Do you make daily ~~builds~~ <span style=\"background-color: #FFFF00\">predictions</span>?\n",
    "4. Do you have a bug database?\n",
    "5. Do you fix bugs before writing new code?\n",
    "6. Do you have an up-to-date schedule?\n",
    "7. Do you have a spec<span style=\"background-color: #FFFF00\">/goals/requirements/stakeholders/documentation</span>?\n",
    "9. Do programmers have quiet working conditions?\n",
    "10. Do you use the best tools money can buy <span style=\"background-color: #FFFF00\">without extensive support</span>?\n",
    "11. Do you ~~have testers~~ <span style=\"background-color: #FFFF00\">evaluate predictions</span>?\n",
    "12. Do new candidates write code during their interview?\n",
    "13. Do you do ~~hallway usability testing~~ <span style=\"background-color: #FFFF00\">collaborate</span>?"
   ]
  },
  {
   "cell_type": "markdown",
   "metadata": {
    "slideshow": {
     "slide_type": "slide"
    }
   },
   "source": [
    "## So, what do we do?"
   ]
  },
  {
   "cell_type": "markdown",
   "metadata": {
    "slideshow": {
     "slide_type": "fragment"
    }
   },
   "source": [
    "## Tools\n",
    "* Github\n",
    "* Jira\n",
    "* Confluence\n",
    "* Domino, DataBricks, AWS\n",
    "* AirFlow/AWS Lambda\n",
    "* S3/HDFS\n",
    "* Google Sheets/Slides\n",
    "\n",
    "## Culture\n",
    "* Testing\n",
    "* Automation\n",
    "* Documentation\n",
    "* Collaboration"
   ]
  },
  {
   "cell_type": "markdown",
   "metadata": {
    "slideshow": {
     "slide_type": "subslide"
    }
   },
   "source": [
    "## Github \n",
    "1. Do you use source control?\n",
    "\n",
    "## Airflow/DataBricks/Domino/AWS\n",
    "\n",
    "2. Can you make <span style=\"background-color: #FFFF00\">both models and predictions</span> in one step?\n",
    "3. Do you make daily <span style=\"background-color: #FFFF00\">predictions</span>?\n",
    "10. Do you use the best tools money can buy <span style=\"background-color: #FFFF00\">without extensive support</span>?\n",
    "\n",
    "## Jira/Confluence\n",
    "4. Do you have a bug database?\n",
    "5. Do you fix bugs before writing new code?\n",
    "6. Do you have an up-to-date schedule?\n",
    "7. Do you have a spec<span style=\"background-color: #FFFF00\">/goals/requirements/stakeholders/documentation</span>?"
   ]
  },
  {
   "cell_type": "markdown",
   "metadata": {
    "slideshow": {
     "slide_type": "subslide"
    }
   },
   "source": [
    "## Collaboration\n",
    "9. Do programmers have quiet working conditions?\n",
    "13. Do you do <span style=\"background-color: #FFFF00\">collaborate</span>?\n",
    "\n",
    "## Testing\n",
    "11. Do you <span style=\"background-color: #FFFF00\">evaluate predictions</span>?\n",
    "\n",
    "## Culture\n",
    "12. Do new candidates write code during their interview?"
   ]
  },
  {
   "cell_type": "markdown",
   "metadata": {
    "slideshow": {
     "slide_type": "slide"
    }
   },
   "source": [
    "## Culture"
   ]
  },
  {
   "cell_type": "markdown",
   "metadata": {
    "slideshow": {
     "slide_type": "fragment"
    }
   },
   "source": [
    "### Testing\n",
    "\n",
    "* Does the code do what we think it does?\n",
    "* Have we tested it with full datasets and done spot checks?\n",
    "* Are corner cases documented and understood?"
   ]
  },
  {
   "cell_type": "markdown",
   "metadata": {
    "slideshow": {
     "slide_type": "subslide"
    }
   },
   "source": [
    "## Culture\n",
    "### Automation\n",
    "\n",
    "* When is the project done, does it need automation?\n",
    "* If it needs to run regularly, does it do so automatically?\n",
    "* Does it do sanity checks during periodic runs?"
   ]
  },
  {
   "cell_type": "markdown",
   "metadata": {
    "slideshow": {
     "slide_type": "subslide"
    }
   },
   "source": [
    "## Culture\n",
    "### Documentation\n",
    "\n",
    "* Ye olde \"hit by a bus\" problem\n",
    "* When I pick up the code in 6 months, how painful will it be?\n",
    "* Can I easily communicate metrics, process and results to stakeholders?"
   ]
  },
  {
   "cell_type": "markdown",
   "metadata": {
    "slideshow": {
     "slide_type": "subslide"
    }
   },
   "source": [
    "## Culture\n",
    "### Collaboration\n",
    "* How easy would it be to work on this project with a colleague?\n",
    "* Can they run the notebooks?\n",
    "* Can they understand the problem and goals?"
   ]
  },
  {
   "cell_type": "markdown",
   "metadata": {
    "slideshow": {
     "slide_type": "slide"
    }
   },
   "source": [
    "# Conclusions\n",
    "\n",
    "* Focus on Predictions and Insights\n",
    "* Ask yourself \"What role does this task require?\"\n",
    "* Keep an eye on the future,\n",
    "  1. Generalization\n",
    "  2. Reproducibility\n",
    "  3. Automation\n",
    "  4. Collaboration\n",
    "  \n"
   ]
  },
  {
   "cell_type": "markdown",
   "metadata": {
    "slideshow": {
     "slide_type": "slide"
    }
   },
   "source": [
    "# Questions?"
   ]
  }
 ],
 "metadata": {
  "celltoolbar": "Slideshow",
  "kernelspec": {
   "display_name": "Python 3",
   "language": "python",
   "name": "python3"
  },
  "language_info": {
   "codemirror_mode": {
    "name": "ipython",
    "version": 3
   },
   "file_extension": ".py",
   "mimetype": "text/x-python",
   "name": "python",
   "nbconvert_exporter": "python",
   "pygments_lexer": "ipython3",
   "version": "3.7.3"
  }
 },
 "nbformat": 4,
 "nbformat_minor": 2
}
