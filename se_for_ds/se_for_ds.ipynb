{
 "cells": [
  {
   "cell_type": "markdown",
   "metadata": {
    "slideshow": {
     "slide_type": "skip"
    }
   },
   "source": [
    "Summary\n",
    "\n",
    "Software Engineering Overview for Data Scientists by Stephen Pettinato, Data Scientist at FabFitFun.com\n",
    "\n",
    "There are lots of Software Engineering principles floating around that Data Scientists can leverage in their day to day work.  This talk organizes all these ideas to illustrate the _why_ of it all.  "
   ]
  },
  {
   "cell_type": "markdown",
   "metadata": {
    "slideshow": {
     "slide_type": "slide"
    }
   },
   "source": [
    "# Software Engineering Overview for Data Scientists\n",
    "## or\n",
    "## Why can't I just build models?\n",
    "\n",
    "### Stephen Pettinato\n",
    "### 2019-12-13"
   ]
  },
  {
   "cell_type": "markdown",
   "metadata": {
    "slideshow": {
     "slide_type": "subslide"
    }
   },
   "source": [
    "# Bio\n",
    "\n",
    "### Degrees: BA Mathematics, MA Statistics, MS Computer Science\n",
    "\n",
    "### Work History: Software Engineer, Data Engineer, Data Scientist\n",
    "\n",
    "## Currently a Senior Data Scientist at FabFitFun\n",
    "\n",
    "<img src=\"https://static.fabfitfun.com/wp-content/uploads/2019/11/WI19_1572634027.8742_1572634028.4905.png\" alt=\"drawing\" style=\"width:400px;\"/>\n"
   ]
  },
  {
   "cell_type": "markdown",
   "metadata": {
    "slideshow": {
     "slide_type": "slide"
    }
   },
   "source": [
    "This talk evolved over the last year from numerous questions like,\n",
    "\n",
    "1. Why is my code slow?\n",
    "2. Why doesn't this code work?\n",
    "3. What is this code doing?"
   ]
  },
  {
   "cell_type": "markdown",
   "metadata": {
    "slideshow": {
     "slide_type": "slide"
    }
   },
   "source": [
    "Data Scientists produce predictions and insights\n",
    "\n",
    "So, it's like this? right?\n",
    "\n",
    "<img src=\"https://images.pexels.com/photos/1181398/pexels-photo-1181398.jpeg?auto=compress&cs=tinysrgb&dpr=2&h=375&w=630\" alt=\"drawing\">"
   ]
  },
  {
   "cell_type": "markdown",
   "metadata": {
    "slideshow": {
     "slide_type": "slide"
    }
   },
   "source": [
    "Oops, more like,\n",
    "\n",
    "Data Scientists produce _code_ that producs predictions and insights\n",
    "\n",
    "<img src=\"https://images.pexels.com/photos/225250/pexels-photo-225250.jpeg?auto=compress&cs=tinysrgb&dpr=2&h=187.5&w=315\" alt=\"drawing\"/><img src=\"https://images.pexels.com/photos/534216/pexels-photo-534216.jpeg?auto=compress&cs=tinysrgb&dpr=2&w=200\" alt=\"drawing\">\n"
   ]
  },
  {
   "cell_type": "markdown",
   "metadata": {
    "slideshow": {
     "slide_type": "slide"
    }
   },
   "source": [
    "Ok, so people care about the code we write?"
   ]
  },
  {
   "cell_type": "markdown",
   "metadata": {
    "slideshow": {
     "slide_type": "fragment"
    }
   },
   "source": [
    "No - people only care about the **predictions** and **insights**"
   ]
  },
  {
   "cell_type": "markdown",
   "metadata": {
    "slideshow": {
     "slide_type": "subslide"
    }
   },
   "source": [
    "Basically it's the same with Software Engineers,\n",
    "\n",
    "nobody cares about the code they write, they only care about **products** and **product features**\n",
    "\n",
    "Software Engineers follow best practices to allow them to produce products and product features, \n",
    "* easily\n",
    "* consistently\n",
    "* reproducibly"
   ]
  },
  {
   "cell_type": "markdown",
   "metadata": {
    "slideshow": {
     "slide_type": "subslide"
    }
   },
   "source": [
    "## The Joel Test - for Software Engineers\n",
    "\n",
    "1. Do you use source control?\n",
    "2. Can you make a build in one step?\n",
    "3. Do you make daily builds?\n",
    "4. Do you have a bug database?\n",
    "5. Do you fix bugs before writing new code?\n",
    "6. Do you have an up-to-date schedule?\n",
    "7. Do you have a spec?\n",
    "9. Do programmers have quiet working conditions?\n",
    "10. Do you use the best tools money can buy?\n",
    "11. Do you have testers?\n",
    "12. Do new candidates write code during their interview?\n",
    "13. Do you do hallway usability testing?\n",
    "\n",
    "https://www.joelonsoftware.com/2000/08/09/the-joel-test-12-steps-to-better-code/"
   ]
  },
  {
   "cell_type": "markdown",
   "metadata": {
    "slideshow": {
     "slide_type": "subslide"
    }
   },
   "source": [
    "#### Software Engineering process\n",
    "1. Architecture\n",
    "2. POC\n",
    "3. Implementation\n",
    "4. Productionalization\n",
    "5. Support/updates\n",
    "\n",
    "#### Data Scientist process\n",
    "1. Analysis/Problem Definition\n",
    "2. Modeling\n",
    "3. Productionalization\n",
    "4. Support/updates\n"
   ]
  },
  {
   "cell_type": "markdown",
   "metadata": {
    "slideshow": {
     "slide_type": "notes"
    }
   },
   "source": [
    "The big difference here is that a SE can be pretty sure that their implementation will work, whereas a DS doesn't always know if the model will work well.\n",
    "\n",
    "Some considerations here are,\n",
    "* Lots of models will definitely work somewhat for almost all businesses so a SE approach is a good idea since there is not much throwaway code/work"
   ]
  },
  {
   "cell_type": "markdown",
   "metadata": {
    "slideshow": {
     "slide_type": "slide"
    }
   },
   "source": [
    "## What can Data Scientists learn from Software Engineers _without_ becoming Engineers?"
   ]
  },
  {
   "cell_type": "markdown",
   "metadata": {
    "slideshow": {
     "slide_type": "fragment"
    }
   },
   "source": [
    "### We can learn a few items from the Joel Test\n",
    "1. Do you use source control?\n",
    "2. Can you make ~a build~ <span style=\"background-color: #FFFF00\">both models and predictions</span> in one step?\n",
    "3. Do you make daily ~builds~ <span style=\"background-color: #FFFF00\">predictions</span>?\n",
    "4. Do you have a bug database?\n",
    "5. Do you fix bugs before writing new code?\n",
    "6. Do you have an up-to-date schedule?\n",
    "7. Do you have a spec<span style=\"background-color: #FFFF00\">/goals/requirements/stakeholders/documentation</span>?\n",
    "9. Do programmers have quiet working conditions?\n",
    "10. Do you use the best tools money can buy <span style=\"background-color: #FFFF00\">without extensive support</span>?\n",
    "11. Do you ~have testers~ <span style=\"background-color: #FFFF00\">evaluate predictions</span>?\n",
    "12. Do new candidates write code during their interview?\n",
    "13. Do you do ~hallway usability testing~ <span style=\"background-color: #FFFF00\">collaborate</span>?"
   ]
  },
  {
   "cell_type": "markdown",
   "metadata": {
    "slideshow": {
     "slide_type": "slide"
    }
   },
   "source": [
    "# So, what do we do?"
   ]
  },
  {
   "cell_type": "markdown",
   "metadata": {
    "slideshow": {
     "slide_type": "fragment"
    }
   },
   "source": [
    "#### Tools\n",
    "* Github\n",
    "* Automation\n",
    "* Domino, DataBricks, AWS\n",
    "* Jira\n",
    "* Confluence\n",
    "\n",
    "#### Culture\n",
    "* Testing\n",
    "* Automation\n",
    "* Documentation"
   ]
  },
  {
   "cell_type": "markdown",
   "metadata": {
    "slideshow": {
     "slide_type": "slide"
    }
   },
   "source": [
    "## Testing\n",
    "\n",
    "* Does the code do what we think it does?\n",
    "* Have we tested it with full datasets and done spot checks?\n",
    "* Are corner cases documented and understood?"
   ]
  },
  {
   "cell_type": "markdown",
   "metadata": {
    "slideshow": {
     "slide_type": "slide"
    }
   },
   "source": [
    "## Automation\n",
    "\n",
    "* When is the project done, does it need automation?\n",
    "* If it needs to run regularly, does it do so automatically?\n",
    "* Does it do sanity checks during periodic runs?"
   ]
  },
  {
   "cell_type": "markdown",
   "metadata": {
    "slideshow": {
     "slide_type": "slide"
    }
   },
   "source": [
    "## Documentation\n",
    "\n",
    "* Ye olde \"hit by a bus\" problem\n",
    "* When I pick up the code in 6 months, how painful will it be?\n",
    "* Can I easily communicate metrics, process and results to stakeholders?"
   ]
  },
  {
   "cell_type": "code",
   "execution_count": null,
   "metadata": {},
   "outputs": [],
   "source": []
  },
  {
   "cell_type": "code",
   "execution_count": null,
   "metadata": {},
   "outputs": [],
   "source": []
  },
  {
   "cell_type": "code",
   "execution_count": null,
   "metadata": {},
   "outputs": [],
   "source": []
  },
  {
   "cell_type": "code",
   "execution_count": null,
   "metadata": {},
   "outputs": [],
   "source": []
  },
  {
   "cell_type": "code",
   "execution_count": null,
   "metadata": {},
   "outputs": [],
   "source": []
  },
  {
   "cell_type": "markdown",
   "metadata": {
    "slideshow": {
     "slide_type": "slide"
    }
   },
   "source": [
    "# Outline\n",
    "1. Motivation\n",
    "2. Library Versions\n",
    "3. Version Control\n",
    "4. Modules and Packages\n",
    "5. Distributed, Parallel and GPUs\n",
    "6. Object Oriented Programming\n",
    "7. Functional Programming\n",
    "8. Automation\n",
    "9. Testing\n",
    "10. Languages"
   ]
  },
  {
   "cell_type": "code",
   "execution_count": 16,
   "metadata": {
    "slideshow": {
     "slide_type": "skip"
    }
   },
   "outputs": [],
   "source": [
    "import arrow\n",
    "import pandas as pd\n",
    "import unittest"
   ]
  },
  {
   "cell_type": "code",
   "execution_count": 6,
   "metadata": {
    "slideshow": {
     "slide_type": "skip"
    }
   },
   "outputs": [],
   "source": [
    "df = pd.DataFrame({'name': ['Loretta', 'Oliver', 'Romolo', 'Loretta', 'Oliver'],\n",
    "                   'product': ['towel', 'towel', 'magazine', 'spatchula', 'towel']})"
   ]
  },
  {
   "cell_type": "markdown",
   "metadata": {
    "slideshow": {
     "slide_type": "slide"
    }
   },
   "source": [
    "# Library Versions"
   ]
  },
  {
   "cell_type": "code",
   "execution_count": 12,
   "metadata": {
    "slideshow": {
     "slide_type": "subslide"
    }
   },
   "outputs": [],
   "source": [
    "# What exactly are you importing?\n",
    "import pandas as pd"
   ]
  },
  {
   "cell_type": "code",
   "execution_count": 11,
   "metadata": {
    "slideshow": {
     "slide_type": "subslide"
    }
   },
   "outputs": [
    {
     "name": "stdout",
     "output_type": "stream",
     "text": [
      "Hello World\n"
     ]
    }
   ],
   "source": [
    "print(\"Hello World\")  # Python 3\n",
    "\n",
    "# print \"Hello World\"  # Python 2"
   ]
  },
  {
   "cell_type": "code",
   "execution_count": 10,
   "metadata": {
    "slideshow": {
     "slide_type": "subslide"
    }
   },
   "outputs": [
    {
     "data": {
      "text/html": [
       "<div>\n",
       "<style scoped>\n",
       "    .dataframe tbody tr th:only-of-type {\n",
       "        vertical-align: middle;\n",
       "    }\n",
       "\n",
       "    .dataframe tbody tr th {\n",
       "        vertical-align: top;\n",
       "    }\n",
       "\n",
       "    .dataframe thead th {\n",
       "        text-align: right;\n",
       "    }\n",
       "</style>\n",
       "<table border=\"1\" class=\"dataframe\">\n",
       "  <thead>\n",
       "    <tr style=\"text-align: right;\">\n",
       "      <th></th>\n",
       "      <th>name</th>\n",
       "      <th>product</th>\n",
       "    </tr>\n",
       "  </thead>\n",
       "  <tbody>\n",
       "    <tr>\n",
       "      <th>0</th>\n",
       "      <td>False</td>\n",
       "      <td>True</td>\n",
       "    </tr>\n",
       "    <tr>\n",
       "      <th>1</th>\n",
       "      <td>False</td>\n",
       "      <td>True</td>\n",
       "    </tr>\n",
       "    <tr>\n",
       "      <th>2</th>\n",
       "      <td>False</td>\n",
       "      <td>False</td>\n",
       "    </tr>\n",
       "    <tr>\n",
       "      <th>3</th>\n",
       "      <td>False</td>\n",
       "      <td>False</td>\n",
       "    </tr>\n",
       "    <tr>\n",
       "      <th>4</th>\n",
       "      <td>False</td>\n",
       "      <td>True</td>\n",
       "    </tr>\n",
       "  </tbody>\n",
       "</table>\n",
       "</div>"
      ],
      "text/plain": [
       "    name  product\n",
       "0  False     True\n",
       "1  False     True\n",
       "2  False    False\n",
       "3  False    False\n",
       "4  False     True"
      ]
     },
     "metadata": {},
     "output_type": "display_data"
    },
    {
     "data": {
      "text/html": [
       "<div>\n",
       "<style scoped>\n",
       "    .dataframe tbody tr th:only-of-type {\n",
       "        vertical-align: middle;\n",
       "    }\n",
       "\n",
       "    .dataframe tbody tr th {\n",
       "        vertical-align: top;\n",
       "    }\n",
       "\n",
       "    .dataframe thead th {\n",
       "        text-align: right;\n",
       "    }\n",
       "</style>\n",
       "<table border=\"1\" class=\"dataframe\">\n",
       "  <thead>\n",
       "    <tr style=\"text-align: right;\">\n",
       "      <th></th>\n",
       "      <th>name</th>\n",
       "      <th>product</th>\n",
       "    </tr>\n",
       "  </thead>\n",
       "  <tbody>\n",
       "    <tr>\n",
       "      <th>0</th>\n",
       "      <td>False</td>\n",
       "      <td>True</td>\n",
       "    </tr>\n",
       "    <tr>\n",
       "      <th>1</th>\n",
       "      <td>False</td>\n",
       "      <td>True</td>\n",
       "    </tr>\n",
       "    <tr>\n",
       "      <th>2</th>\n",
       "      <td>False</td>\n",
       "      <td>False</td>\n",
       "    </tr>\n",
       "    <tr>\n",
       "      <th>3</th>\n",
       "      <td>False</td>\n",
       "      <td>False</td>\n",
       "    </tr>\n",
       "    <tr>\n",
       "      <th>4</th>\n",
       "      <td>False</td>\n",
       "      <td>True</td>\n",
       "    </tr>\n",
       "  </tbody>\n",
       "</table>\n",
       "</div>"
      ],
      "text/plain": [
       "    name  product\n",
       "0  False     True\n",
       "1  False     True\n",
       "2  False    False\n",
       "3  False    False\n",
       "4  False     True"
      ]
     },
     "metadata": {},
     "output_type": "display_data"
    }
   ],
   "source": [
    "# As of Pandas 0.21\n",
    "display(\n",
    "    df.apply(lambda col: col == 'towel', axis='columns')\n",
    ")\n",
    "\n",
    "# In all versions of Pandas >= 0.7\n",
    "display(\n",
    "    df.apply(lambda col: col == 'towel', axis=1)\n",
    ")\n"
   ]
  },
  {
   "cell_type": "markdown",
   "metadata": {
    "slideshow": {
     "slide_type": "subslide"
    }
   },
   "source": [
    "Pandas Documentation for DataFrame.apply\n",
    "* [0.21](https://pandas.pydata.org/pandas-docs/version/0.21/generated/pandas.DataFrame.apply.html)\n",
    "* [0.22](https://pandas.pydata.org/pandas-docs/version/0.22/generated/pandas.DataFrame.apply.html)\n",
    "* [0.7](https://pandas.pydata.org/pandas-docs/version/0.7.0/generated/pandas.DataFrame.apply.html)"
   ]
  },
  {
   "cell_type": "markdown",
   "metadata": {
    "slideshow": {
     "slide_type": "subslide"
    }
   },
   "source": [
    "## Numpy has a 2000 word policy on Backwards Compatibility\n",
    "\n",
    "https://numpy.org/neps/nep-0023-backwards-compatibility.html\n",
    "\n",
    "* Aim not to break users’ code unnecessarily.\n",
    "* Aim never to change code in ways that can result in users silently getting incorrect results from their previously working code.\n",
    "* Backwards incompatible changes can be made, provided the benefits outweigh the costs."
   ]
  },
  {
   "cell_type": "markdown",
   "metadata": {
    "slideshow": {
     "slide_type": "subslide"
    }
   },
   "source": [
    "## What version should I use?\n",
    "\n",
    "* New Software - Newest version\n",
    "* Existing Software - Whatever was used previously"
   ]
  },
  {
   "cell_type": "markdown",
   "metadata": {
    "slideshow": {
     "slide_type": "subslide"
    }
   },
   "source": [
    "## What if I have to upgrade a library?\n",
    "\n",
    "* Option 1: Write unit tests\n",
    "* Option 2: "
   ]
  },
  {
   "cell_type": "markdown",
   "metadata": {
    "slideshow": {
     "slide_type": "fragment"
    }
   },
   "source": [
    "<img src=\"https://images-na.ssl-images-amazon.com/images/I/51ziSsJQOEL._SX376_BO1,204,203,200_.jpg\" alt=\"drawing\" style=\"width:300px;\"/>"
   ]
  },
  {
   "cell_type": "markdown",
   "metadata": {
    "slideshow": {
     "slide_type": "slide"
    }
   },
   "source": [
    "# Version Control\n",
    "\n",
    "Goes hand-in-hand with Library Versions\n",
    "\n",
    "Sure you are using Pandas 0.25.1, but what's the actual code powering this?"
   ]
  },
  {
   "cell_type": "markdown",
   "metadata": {
    "slideshow": {
     "slide_type": "subslide"
    }
   },
   "source": [
    "## Software Engineers use version control for\n",
    "* Collaboration and code organization across team members\n",
    "* Which code has which bug\n",
    "* What code is running in which environment\n",
    "  * Production\n",
    "  * Staging\n",
    "  * Development"
   ]
  },
  {
   "cell_type": "markdown",
   "metadata": {
    "slideshow": {
     "slide_type": "skip"
    }
   },
   "source": [
    "They know exactly what code is running in each location, and can roll back when something breaks."
   ]
  },
  {
   "cell_type": "markdown",
   "metadata": {
    "slideshow": {
     "slide_type": "subslide"
    }
   },
   "source": [
    "### So what do Data Scientists use Version Control for?\n",
    "* Collaboration code organization across team members\n",
    "* Which code has which bug\n",
    "* What code is running in which environment\n",
    "  * Production\n",
    "  * Staging\n",
    "  * Development"
   ]
  },
  {
   "cell_type": "markdown",
   "metadata": {
    "slideshow": {
     "slide_type": "slide"
    }
   },
   "source": [
    "# Modules and Packages\n",
    "\n",
    "Hey I've written some code and want others to be able to run it in Notebooks, how do I do this?\n",
    "\n",
    "`pip install your_code`\n",
    "\n",
    "or\n",
    "\n",
    "`pip install git+ssh://git@github.com:fabfitfun/your_code.git`"
   ]
  },
  {
   "cell_type": "code",
   "execution_count": null,
   "metadata": {
    "slideshow": {
     "slide_type": "subslide"
    }
   },
   "outputs": [],
   "source": [
    "todo more here"
   ]
  },
  {
   "cell_type": "markdown",
   "metadata": {
    "slideshow": {
     "slide_type": "slide"
    }
   },
   "source": [
    "# Distributed, Parallel and GPUs\n",
    "\n",
    "Whats the difference?"
   ]
  },
  {
   "cell_type": "markdown",
   "metadata": {
    "slideshow": {
     "slide_type": "subslide"
    }
   },
   "source": [
    "## Parallel Processing\n",
    "* Runs across multiple CPUs on a single machine\n",
    "* Good for \n",
    "  * Small Datasets\n",
    "  * If you are constrained to your laptop or a single machine\n",
    "\n",
    "## GPU Processing\n",
    "* Runs on a Graphics Card on a single machine\n",
    "* Good for \n",
    "  * Small Datasets\n",
    "  * If you are constrained to your laptop or a single machine\n",
    "  * Neural Nets/Deep Learning\n",
    "\n",
    "## Distributed Processing\n",
    "* Runs on many machines\n",
    "* Good for\n",
    "  * Large Datasets\n",
    "  * Small Datasets that need lots of parallel processing"
   ]
  },
  {
   "cell_type": "markdown",
   "metadata": {},
   "source": [
    "Historically all of these are complicated, but there are nice DS libraries nowadays\n",
    "* Spark\n",
    "* Dask\n",
    "* PyTorch/rTorch\n",
    "* TensorFlow"
   ]
  },
  {
   "cell_type": "markdown",
   "metadata": {
    "slideshow": {
     "slide_type": "subslide"
    }
   },
   "source": [
    "## It's a progression as your workflow evolves\n",
    "\n",
    "On one end is a single processor on a single machine\n",
    "\n",
    "On the other end there is Distributed Computing + GPU Processing"
   ]
  },
  {
   "cell_type": "markdown",
   "metadata": {
    "slideshow": {
     "slide_type": "slide"
    }
   },
   "source": [
    "# Object Oriented Programming\n",
    "\n",
    "Data Representation\n",
    "\n",
    "Data Processing"
   ]
  },
  {
   "cell_type": "code",
   "execution_count": 36,
   "metadata": {
    "slideshow": {
     "slide_type": "subslide"
    }
   },
   "outputs": [],
   "source": [
    "# Data Representation\n",
    "# Not particulurly useful as mostly we use DataFrames\n",
    "\n",
    "class Customer():\n",
    "    def __init__(self, account_code):\n",
    "        self.account_code = account_code\n",
    "        self.signup_date = arrow.get()\n",
    "        \n",
    "class SeasonalMember(Customer):\n",
    "    def __init__(self, account_code, season):\n",
    "        self.season = season\n",
    "        super().__init__(account_code)\n",
    "        \n",
    "Customer('myaccount');\n",
    "SeasonalMember('myaccount', 1904);"
   ]
  },
  {
   "cell_type": "code",
   "execution_count": 37,
   "metadata": {
    "slideshow": {
     "slide_type": "slide"
    }
   },
   "outputs": [],
   "source": [
    "# Data Processing\n",
    "# Can be useful in some situations, mostly if you have a coding pattern that you want to follow\n",
    "\n",
    "class \n",
    "\n",
    "\n"
   ]
  },
  {
   "cell_type": "markdown",
   "metadata": {
    "slideshow": {
     "slide_type": "slide"
    }
   },
   "source": [
    "# Functional Programming"
   ]
  },
  {
   "cell_type": "code",
   "execution_count": null,
   "metadata": {
    "slideshow": {
     "slide_type": "subslide"
    }
   },
   "outputs": [],
   "source": []
  },
  {
   "cell_type": "markdown",
   "metadata": {
    "slideshow": {
     "slide_type": "slide"
    }
   },
   "source": [
    "# Automation"
   ]
  },
  {
   "cell_type": "markdown",
   "metadata": {
    "slideshow": {
     "slide_type": "subslide"
    }
   },
   "source": []
  },
  {
   "cell_type": "markdown",
   "metadata": {
    "slideshow": {
     "slide_type": "slide"
    }
   },
   "source": [
    "# Testing"
   ]
  },
  {
   "cell_type": "markdown",
   "metadata": {
    "slideshow": {
     "slide_type": "subslide"
    }
   },
   "source": [
    "## Fibonacci example \n",
    "\n",
    "(Modified from https://www.python-course.eu/python3_tests.php)"
   ]
  },
  {
   "cell_type": "code",
   "execution_count": 13,
   "metadata": {
    "slideshow": {
     "slide_type": "fragment"
    }
   },
   "outputs": [],
   "source": [
    "def fib(n):\n",
    "    \"\"\" \n",
    "    Calculates the n-th Fibonacci number iteratively  \n",
    "\n",
    "    >>> fib(0)\n",
    "    0\n",
    "    >>> fib(1)\n",
    "    1\n",
    "    >>> fib(10) \n",
    "    55\n",
    "    >>> fib(15)\n",
    "    610\n",
    "    >>> \n",
    "\n",
    "    \"\"\"\n",
    "    a, b = 0, 1\n",
    "    for i in range(n):\n",
    "        a, b = b, a + b\n",
    "    return a"
   ]
  },
  {
   "cell_type": "code",
   "execution_count": 14,
   "metadata": {
    "slideshow": {
     "slide_type": "subslide"
    }
   },
   "outputs": [],
   "source": [
    "import unittest\n",
    "\n",
    "class FibonacciTest(unittest.TestCase):\n",
    "\n",
    "    def testCalculation(self):\n",
    "        self.assertEqual(fib(0), 0)\n",
    "        self.assertEqual(fib(1), 1)\n",
    "        self.assertEqual(fib(5), 5)\n",
    "        self.assertEqual(fib(10), 55)\n",
    "        self.assertEqual(fib(20), 6765)"
   ]
  },
  {
   "cell_type": "markdown",
   "metadata": {
    "slideshow": {
     "slide_type": "subslide"
    }
   },
   "source": [
    "## Should I test everything?"
   ]
  },
  {
   "cell_type": "code",
   "execution_count": 15,
   "metadata": {
    "slideshow": {
     "slide_type": "fragment"
    }
   },
   "outputs": [],
   "source": [
    "def count_products(df):\n",
    "    return df.groupby('name').product.size()"
   ]
  },
  {
   "cell_type": "markdown",
   "metadata": {
    "slideshow": {
     "slide_type": "slide"
    }
   },
   "source": [
    "# Conclusion\n",
    "1. There is a _lot_ of stuff to learn\n",
    "2. Be iterative, learn what you have to in order to accomplish your current task\n",
    "3. Keep learning!"
   ]
  },
  {
   "cell_type": "markdown",
   "metadata": {
    "slideshow": {
     "slide_type": "slide"
    }
   },
   "source": [
    "# Questions?"
   ]
  }
 ],
 "metadata": {
  "celltoolbar": "Slideshow",
  "kernelspec": {
   "display_name": "Python 3",
   "language": "python",
   "name": "python3"
  },
  "language_info": {
   "codemirror_mode": {
    "name": "ipython",
    "version": 3
   },
   "file_extension": ".py",
   "mimetype": "text/x-python",
   "name": "python",
   "nbconvert_exporter": "python",
   "pygments_lexer": "ipython3",
   "version": "3.7.3"
  }
 },
 "nbformat": 4,
 "nbformat_minor": 2
}
