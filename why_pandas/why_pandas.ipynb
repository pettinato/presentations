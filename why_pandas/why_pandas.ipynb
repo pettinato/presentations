{
 "cells": [
  {
   "cell_type": "markdown",
   "metadata": {
    "slideshow": {
     "slide_type": "skip"
    }
   },
   "source": [
    "Summary\n",
    "\n",
    "Why should I learn Pandas? by Stephen Pettinato, Data Scientist at ThriveMarket.com\n",
    "\n",
    "Pandas is a popular data analytics and data wrangling tool used by Data Scientists, Data Engineers and Data Analysts.  Despite this, the learning curve is steep and rationalization and encouragement is required to get past being a beginner.  This talk focuses on practical reasons that Pandas is useful as well as Big Data extensions to Pandas concepts of functional transformations using DataFrames. "
   ]
  },
  {
   "cell_type": "markdown",
   "metadata": {
    "slideshow": {
     "slide_type": "slide"
    }
   },
   "source": [
    "# Why should I learn Pandas?\n",
    "## or\n",
    "## How I learned to stop worrying and love Data Frames\n",
    "\n",
    "### Stephen Pettinato\n",
    "### 2018-08-28"
   ]
  },
  {
   "cell_type": "markdown",
   "metadata": {
    "slideshow": {
     "slide_type": "subslide"
    }
   },
   "source": [
    "# Bio\n",
    "\n",
    "### Degrees: BA Mathematics, MA Statistics, MS Computer Science\n",
    "\n",
    "### Work History: Software Engineer, Data Engineer, Data Scientist\n",
    "\n",
    "## Currently a Data Scientist at ThriveMarket\n"
   ]
  },
  {
   "cell_type": "markdown",
   "metadata": {
    "slideshow": {
     "slide_type": "slide"
    }
   },
   "source": [
    "# Outline\n",
    "1. Motivation\n",
    "2. What is Pandas?\n",
    "3. 2 Demos comparing Base Python to Pandas\n",
    "4. What is a DataFrame?\n",
    "5. 2 Demos comparing Pandas to Spark & Dask\n",
    "6. Unit tests of Pandas Transformations\n",
    "7. Comparison with SQL & MapReduce"
   ]
  },
  {
   "cell_type": "markdown",
   "metadata": {
    "slideshow": {
     "slide_type": "slide"
    }
   },
   "source": [
    "A while back I was presented with the following comment,\n",
    "\n",
    "> I've been thinking about using Spark because my dataset is bigger than 5 GB, what do you think?"
   ]
  },
  {
   "cell_type": "markdown",
   "metadata": {
    "slideshow": {
     "slide_type": "slide"
    }
   },
   "source": [
    "## Let's check the documentation"
   ]
  },
  {
   "cell_type": "markdown",
   "metadata": {
    "slideshow": {
     "slide_type": "subslide"
    }
   },
   "source": [
    "> pandas is an open source, BSD-licensed library providing high-performance, easy-to-use data structures and data analysis tools for the Python programming language.\"\n",
    "\n",
    "https://pandas.pydata.org/\n",
    "\n",
    "> pandas is a Python package providing fast, flexible, and expressive data structures designed to make working with “relational” or “labeled” data both easy and intuitive.  It aims to be the fundamental high-level building block for doing practical, real world data analysis in Python.\n",
    "\n",
    "https://pandas.pydata.org/pandas-docs/stable/\n"
   ]
  },
  {
   "cell_type": "markdown",
   "metadata": {
    "slideshow": {
     "slide_type": "subslide"
    }
   },
   "source": [
    "This means,\n",
    "1. you can take a dataset and transform it to other formats (ETL)\n",
    "2. you can ask questions of the dataset (Analysis)\n",
    "3. you don't have to write a ton of custom code for each transformation or analysis"
   ]
  },
  {
   "cell_type": "markdown",
   "metadata": {
    "slideshow": {
     "slide_type": "slide"
    }
   },
   "source": [
    "I say you should always use Pandas,\n",
    "* If you are wranging data and expect to wrangle data in the future\n",
    "* If your computations don't have real time or near real time performance requirements\n",
    "* If you are not using R\n",
    "* If you are not using Excel"
   ]
  },
  {
   "cell_type": "markdown",
   "metadata": {
    "slideshow": {
     "slide_type": "fragment"
    }
   },
   "source": [
    "\n",
    "Why?\n",
    "\n",
    "* Pandas Data Frames work well for ETL & Analysis on small datasets\n",
    "* Similar algorithms used locally can be applied at large scales"
   ]
  },
  {
   "cell_type": "markdown",
   "metadata": {
    "slideshow": {
     "slide_type": "slide"
    }
   },
   "source": [
    "# Demo\n",
    "\n",
    "## Comma delimited file with columns,\n",
    "1. customer\n",
    "2. orderid\n",
    "3. product\n",
    "\n",
    "## Answer the following questions,\n",
    "1. How many customers ordered products?\n",
    "2. On average how many products were ordered per order?\n",
    "\n",
    "### in,\n",
    "1. base Python\n",
    "2. pandas"
   ]
  },
  {
   "cell_type": "code",
   "execution_count": 1,
   "metadata": {
    "slideshow": {
     "slide_type": "subslide"
    }
   },
   "outputs": [],
   "source": [
    "demofile = 'demo_file.csv'\n",
    "\n",
    "contents = \"\"\"customer,orderid,product\n",
    "Oliver,10,mayo\n",
    "Oliver,10,cashews\n",
    "Oliver,10,tea\n",
    "Oliver,11,mustard\n",
    "Loretta,12,mayo\n",
    "Loretta,12,cashews\n",
    "Sofia,13,mayo\"\"\"\n",
    "\n",
    "with open(demofile, 'w') as f:\n",
    "    f.write(contents)"
   ]
  },
  {
   "cell_type": "markdown",
   "metadata": {
    "slideshow": {
     "slide_type": "subslide"
    }
   },
   "source": [
    "## Base Python"
   ]
  },
  {
   "cell_type": "code",
   "execution_count": 2,
   "metadata": {
    "slideshow": {
     "slide_type": "fragment"
    }
   },
   "outputs": [
    {
     "name": "stdout",
     "output_type": "stream",
     "text": [
      "Customer count:  3\n",
      "Average number of items per order 1.75\n"
     ]
    }
   ],
   "source": [
    "# First read in the file\n",
    "data = []  # Use a list of dictionaries\n",
    "with open(demofile, 'r') as f:\n",
    "    lines = f.readlines()\n",
    "    header = lines[0].strip().split(',')\n",
    "    for line in lines[1:]:\n",
    "        row = dict(zip(header, line.split(',')))\n",
    "        data.append(row)\n",
    "    \n",
    "# Then answer question 1\n",
    "customer_count = len(set([row['customer'] for row in data]))\n",
    "print(\"Customer count: \", customer_count)\n",
    "\n",
    "# And answer question 2\n",
    "from collections import defaultdict\n",
    "ord_to_items = defaultdict(list)\n",
    "for row in data:\n",
    "    ord_to_items[row['orderid']].append(row['product'])\n",
    "order_lengths = [len(products) for products in ord_to_items.values()]\n",
    "avg_items_per_order = sum(order_lengths) / len(order_lengths)\n",
    "print(\"Average number of items per order\", avg_items_per_order)"
   ]
  },
  {
   "cell_type": "markdown",
   "metadata": {
    "slideshow": {
     "slide_type": "subslide"
    }
   },
   "source": [
    "## Pandas"
   ]
  },
  {
   "cell_type": "code",
   "execution_count": 3,
   "metadata": {
    "slideshow": {
     "slide_type": "fragment"
    }
   },
   "outputs": [
    {
     "name": "stdout",
     "output_type": "stream",
     "text": [
      "Customer count:  3\n",
      "Average number of items per order 1.75\n"
     ]
    }
   ],
   "source": [
    "import pandas as pd\n",
    "df = pd.read_csv(demofile)\n",
    "\n",
    "print(\"Customer count: \", df.customer.nunique())\n",
    "\n",
    "avg_items_per_order = df.groupby('orderid').size().mean()\n",
    "print(\"Average number of items per order\", avg_items_per_order)"
   ]
  },
  {
   "cell_type": "markdown",
   "metadata": {
    "slideshow": {
     "slide_type": "slide"
    }
   },
   "source": [
    "# What is a Data Frame?\n",
    "\n",
    "## A collection of rows and columns of data stored as strings or numbers\n",
    "\n",
    "### Plus a collection of operations\n",
    "\n",
    "* Transform one or more columns into one or more columns\n",
    "* Transform one or more rows into one or more rows\n",
    "* Filter rows or columns by conditions\n",
    "* Join to other DataFrames\n",
    "* Aggregations"
   ]
  },
  {
   "cell_type": "code",
   "execution_count": 4,
   "metadata": {
    "slideshow": {
     "slide_type": "skip"
    }
   },
   "outputs": [],
   "source": [
    "def highlight_cond(row, cond):\n",
    "    \"\"\"Custom function used below to highlight row 3 or column product\"\"\"\n",
    "    color = 'background-color: white'\n",
    "    if cond == 'row3' and row.name == 3:\n",
    "        color = 'background-color: yellow'\n",
    "    if cond == 'colproduct' and row.name == 'product':\n",
    "        color = 'background-color: yellow'\n",
    "    return [color  for _ in row]"
   ]
  },
  {
   "cell_type": "code",
   "execution_count": 5,
   "metadata": {
    "slideshow": {
     "slide_type": "subslide"
    }
   },
   "outputs": [
    {
     "data": {
      "text/html": [
       "<div>\n",
       "<style scoped>\n",
       "    .dataframe tbody tr th:only-of-type {\n",
       "        vertical-align: middle;\n",
       "    }\n",
       "\n",
       "    .dataframe tbody tr th {\n",
       "        vertical-align: top;\n",
       "    }\n",
       "\n",
       "    .dataframe thead th {\n",
       "        text-align: right;\n",
       "    }\n",
       "</style>\n",
       "<table border=\"1\" class=\"dataframe\">\n",
       "  <thead>\n",
       "    <tr style=\"text-align: right;\">\n",
       "      <th></th>\n",
       "      <th>customer</th>\n",
       "      <th>orderid</th>\n",
       "      <th>product</th>\n",
       "    </tr>\n",
       "  </thead>\n",
       "  <tbody>\n",
       "    <tr>\n",
       "      <th>0</th>\n",
       "      <td>Oliver</td>\n",
       "      <td>10</td>\n",
       "      <td>mayo</td>\n",
       "    </tr>\n",
       "    <tr>\n",
       "      <th>1</th>\n",
       "      <td>Oliver</td>\n",
       "      <td>10</td>\n",
       "      <td>cashews</td>\n",
       "    </tr>\n",
       "    <tr>\n",
       "      <th>2</th>\n",
       "      <td>Oliver</td>\n",
       "      <td>10</td>\n",
       "      <td>tea</td>\n",
       "    </tr>\n",
       "    <tr>\n",
       "      <th>3</th>\n",
       "      <td>Oliver</td>\n",
       "      <td>11</td>\n",
       "      <td>mustard</td>\n",
       "    </tr>\n",
       "    <tr>\n",
       "      <th>4</th>\n",
       "      <td>Loretta</td>\n",
       "      <td>12</td>\n",
       "      <td>mayo</td>\n",
       "    </tr>\n",
       "    <tr>\n",
       "      <th>5</th>\n",
       "      <td>Loretta</td>\n",
       "      <td>12</td>\n",
       "      <td>cashews</td>\n",
       "    </tr>\n",
       "    <tr>\n",
       "      <th>6</th>\n",
       "      <td>Sofia</td>\n",
       "      <td>13</td>\n",
       "      <td>mayo</td>\n",
       "    </tr>\n",
       "  </tbody>\n",
       "</table>\n",
       "</div>"
      ],
      "text/plain": [
       "  customer  orderid  product\n",
       "0   Oliver       10     mayo\n",
       "1   Oliver       10  cashews\n",
       "2   Oliver       10      tea\n",
       "3   Oliver       11  mustard\n",
       "4  Loretta       12     mayo\n",
       "5  Loretta       12  cashews\n",
       "6    Sofia       13     mayo"
      ]
     },
     "execution_count": 5,
     "metadata": {},
     "output_type": "execute_result"
    }
   ],
   "source": [
    "import pandas as pd\n",
    "df = pd.read_csv(demofile)\n",
    "df"
   ]
  },
  {
   "cell_type": "code",
   "execution_count": 6,
   "metadata": {
    "slideshow": {
     "slide_type": "subslide"
    }
   },
   "outputs": [
    {
     "data": {
      "text/html": [
       "<style  type=\"text/css\" >\n",
       "    #T_fe3358e0_a979_11e8_aa90_7c5cf837b144row0_col0 {\n",
       "            background-color:  white;\n",
       "        }    #T_fe3358e0_a979_11e8_aa90_7c5cf837b144row0_col1 {\n",
       "            background-color:  white;\n",
       "        }    #T_fe3358e0_a979_11e8_aa90_7c5cf837b144row0_col2 {\n",
       "            background-color:  white;\n",
       "        }    #T_fe3358e0_a979_11e8_aa90_7c5cf837b144row1_col0 {\n",
       "            background-color:  white;\n",
       "        }    #T_fe3358e0_a979_11e8_aa90_7c5cf837b144row1_col1 {\n",
       "            background-color:  white;\n",
       "        }    #T_fe3358e0_a979_11e8_aa90_7c5cf837b144row1_col2 {\n",
       "            background-color:  white;\n",
       "        }    #T_fe3358e0_a979_11e8_aa90_7c5cf837b144row2_col0 {\n",
       "            background-color:  white;\n",
       "        }    #T_fe3358e0_a979_11e8_aa90_7c5cf837b144row2_col1 {\n",
       "            background-color:  white;\n",
       "        }    #T_fe3358e0_a979_11e8_aa90_7c5cf837b144row2_col2 {\n",
       "            background-color:  white;\n",
       "        }    #T_fe3358e0_a979_11e8_aa90_7c5cf837b144row3_col0 {\n",
       "            background-color:  yellow;\n",
       "        }    #T_fe3358e0_a979_11e8_aa90_7c5cf837b144row3_col1 {\n",
       "            background-color:  yellow;\n",
       "        }    #T_fe3358e0_a979_11e8_aa90_7c5cf837b144row3_col2 {\n",
       "            background-color:  yellow;\n",
       "        }    #T_fe3358e0_a979_11e8_aa90_7c5cf837b144row4_col0 {\n",
       "            background-color:  white;\n",
       "        }    #T_fe3358e0_a979_11e8_aa90_7c5cf837b144row4_col1 {\n",
       "            background-color:  white;\n",
       "        }    #T_fe3358e0_a979_11e8_aa90_7c5cf837b144row4_col2 {\n",
       "            background-color:  white;\n",
       "        }    #T_fe3358e0_a979_11e8_aa90_7c5cf837b144row5_col0 {\n",
       "            background-color:  white;\n",
       "        }    #T_fe3358e0_a979_11e8_aa90_7c5cf837b144row5_col1 {\n",
       "            background-color:  white;\n",
       "        }    #T_fe3358e0_a979_11e8_aa90_7c5cf837b144row5_col2 {\n",
       "            background-color:  white;\n",
       "        }    #T_fe3358e0_a979_11e8_aa90_7c5cf837b144row6_col0 {\n",
       "            background-color:  white;\n",
       "        }    #T_fe3358e0_a979_11e8_aa90_7c5cf837b144row6_col1 {\n",
       "            background-color:  white;\n",
       "        }    #T_fe3358e0_a979_11e8_aa90_7c5cf837b144row6_col2 {\n",
       "            background-color:  white;\n",
       "        }</style>  \n",
       "<table id=\"T_fe3358e0_a979_11e8_aa90_7c5cf837b144\" > \n",
       "<thead>    <tr> \n",
       "        <th class=\"blank level0\" ></th> \n",
       "        <th class=\"col_heading level0 col0\" >customer</th> \n",
       "        <th class=\"col_heading level0 col1\" >orderid</th> \n",
       "        <th class=\"col_heading level0 col2\" >product</th> \n",
       "    </tr></thead> \n",
       "<tbody>    <tr> \n",
       "        <th id=\"T_fe3358e0_a979_11e8_aa90_7c5cf837b144level0_row0\" class=\"row_heading level0 row0\" >0</th> \n",
       "        <td id=\"T_fe3358e0_a979_11e8_aa90_7c5cf837b144row0_col0\" class=\"data row0 col0\" >Oliver</td> \n",
       "        <td id=\"T_fe3358e0_a979_11e8_aa90_7c5cf837b144row0_col1\" class=\"data row0 col1\" >10</td> \n",
       "        <td id=\"T_fe3358e0_a979_11e8_aa90_7c5cf837b144row0_col2\" class=\"data row0 col2\" >mayo</td> \n",
       "    </tr>    <tr> \n",
       "        <th id=\"T_fe3358e0_a979_11e8_aa90_7c5cf837b144level0_row1\" class=\"row_heading level0 row1\" >1</th> \n",
       "        <td id=\"T_fe3358e0_a979_11e8_aa90_7c5cf837b144row1_col0\" class=\"data row1 col0\" >Oliver</td> \n",
       "        <td id=\"T_fe3358e0_a979_11e8_aa90_7c5cf837b144row1_col1\" class=\"data row1 col1\" >10</td> \n",
       "        <td id=\"T_fe3358e0_a979_11e8_aa90_7c5cf837b144row1_col2\" class=\"data row1 col2\" >cashews</td> \n",
       "    </tr>    <tr> \n",
       "        <th id=\"T_fe3358e0_a979_11e8_aa90_7c5cf837b144level0_row2\" class=\"row_heading level0 row2\" >2</th> \n",
       "        <td id=\"T_fe3358e0_a979_11e8_aa90_7c5cf837b144row2_col0\" class=\"data row2 col0\" >Oliver</td> \n",
       "        <td id=\"T_fe3358e0_a979_11e8_aa90_7c5cf837b144row2_col1\" class=\"data row2 col1\" >10</td> \n",
       "        <td id=\"T_fe3358e0_a979_11e8_aa90_7c5cf837b144row2_col2\" class=\"data row2 col2\" >tea</td> \n",
       "    </tr>    <tr> \n",
       "        <th id=\"T_fe3358e0_a979_11e8_aa90_7c5cf837b144level0_row3\" class=\"row_heading level0 row3\" >3</th> \n",
       "        <td id=\"T_fe3358e0_a979_11e8_aa90_7c5cf837b144row3_col0\" class=\"data row3 col0\" >Oliver</td> \n",
       "        <td id=\"T_fe3358e0_a979_11e8_aa90_7c5cf837b144row3_col1\" class=\"data row3 col1\" >11</td> \n",
       "        <td id=\"T_fe3358e0_a979_11e8_aa90_7c5cf837b144row3_col2\" class=\"data row3 col2\" >mustard</td> \n",
       "    </tr>    <tr> \n",
       "        <th id=\"T_fe3358e0_a979_11e8_aa90_7c5cf837b144level0_row4\" class=\"row_heading level0 row4\" >4</th> \n",
       "        <td id=\"T_fe3358e0_a979_11e8_aa90_7c5cf837b144row4_col0\" class=\"data row4 col0\" >Loretta</td> \n",
       "        <td id=\"T_fe3358e0_a979_11e8_aa90_7c5cf837b144row4_col1\" class=\"data row4 col1\" >12</td> \n",
       "        <td id=\"T_fe3358e0_a979_11e8_aa90_7c5cf837b144row4_col2\" class=\"data row4 col2\" >mayo</td> \n",
       "    </tr>    <tr> \n",
       "        <th id=\"T_fe3358e0_a979_11e8_aa90_7c5cf837b144level0_row5\" class=\"row_heading level0 row5\" >5</th> \n",
       "        <td id=\"T_fe3358e0_a979_11e8_aa90_7c5cf837b144row5_col0\" class=\"data row5 col0\" >Loretta</td> \n",
       "        <td id=\"T_fe3358e0_a979_11e8_aa90_7c5cf837b144row5_col1\" class=\"data row5 col1\" >12</td> \n",
       "        <td id=\"T_fe3358e0_a979_11e8_aa90_7c5cf837b144row5_col2\" class=\"data row5 col2\" >cashews</td> \n",
       "    </tr>    <tr> \n",
       "        <th id=\"T_fe3358e0_a979_11e8_aa90_7c5cf837b144level0_row6\" class=\"row_heading level0 row6\" >6</th> \n",
       "        <td id=\"T_fe3358e0_a979_11e8_aa90_7c5cf837b144row6_col0\" class=\"data row6 col0\" >Sofia</td> \n",
       "        <td id=\"T_fe3358e0_a979_11e8_aa90_7c5cf837b144row6_col1\" class=\"data row6 col1\" >13</td> \n",
       "        <td id=\"T_fe3358e0_a979_11e8_aa90_7c5cf837b144row6_col2\" class=\"data row6 col2\" >mayo</td> \n",
       "    </tr></tbody> \n",
       "</table> "
      ],
      "text/plain": [
       "<pandas.io.formats.style.Styler at 0x7f795c46feb8>"
      ]
     },
     "execution_count": 6,
     "metadata": {},
     "output_type": "execute_result"
    }
   ],
   "source": [
    "dft = df.style.apply(highlight_cond, cond='row3', axis=1)\n",
    "dft"
   ]
  },
  {
   "cell_type": "code",
   "execution_count": 7,
   "metadata": {
    "slideshow": {
     "slide_type": "subslide"
    }
   },
   "outputs": [
    {
     "data": {
      "text/html": [
       "<style  type=\"text/css\" >\n",
       "    #T_fe3358e1_a979_11e8_aa90_7c5cf837b144row0_col0 {\n",
       "            background-color:  white;\n",
       "        }    #T_fe3358e1_a979_11e8_aa90_7c5cf837b144row0_col1 {\n",
       "            background-color:  white;\n",
       "        }    #T_fe3358e1_a979_11e8_aa90_7c5cf837b144row0_col2 {\n",
       "            background-color:  yellow;\n",
       "        }    #T_fe3358e1_a979_11e8_aa90_7c5cf837b144row1_col0 {\n",
       "            background-color:  white;\n",
       "        }    #T_fe3358e1_a979_11e8_aa90_7c5cf837b144row1_col1 {\n",
       "            background-color:  white;\n",
       "        }    #T_fe3358e1_a979_11e8_aa90_7c5cf837b144row1_col2 {\n",
       "            background-color:  yellow;\n",
       "        }    #T_fe3358e1_a979_11e8_aa90_7c5cf837b144row2_col0 {\n",
       "            background-color:  white;\n",
       "        }    #T_fe3358e1_a979_11e8_aa90_7c5cf837b144row2_col1 {\n",
       "            background-color:  white;\n",
       "        }    #T_fe3358e1_a979_11e8_aa90_7c5cf837b144row2_col2 {\n",
       "            background-color:  yellow;\n",
       "        }    #T_fe3358e1_a979_11e8_aa90_7c5cf837b144row3_col0 {\n",
       "            background-color:  white;\n",
       "        }    #T_fe3358e1_a979_11e8_aa90_7c5cf837b144row3_col1 {\n",
       "            background-color:  white;\n",
       "        }    #T_fe3358e1_a979_11e8_aa90_7c5cf837b144row3_col2 {\n",
       "            background-color:  yellow;\n",
       "        }    #T_fe3358e1_a979_11e8_aa90_7c5cf837b144row4_col0 {\n",
       "            background-color:  white;\n",
       "        }    #T_fe3358e1_a979_11e8_aa90_7c5cf837b144row4_col1 {\n",
       "            background-color:  white;\n",
       "        }    #T_fe3358e1_a979_11e8_aa90_7c5cf837b144row4_col2 {\n",
       "            background-color:  yellow;\n",
       "        }    #T_fe3358e1_a979_11e8_aa90_7c5cf837b144row5_col0 {\n",
       "            background-color:  white;\n",
       "        }    #T_fe3358e1_a979_11e8_aa90_7c5cf837b144row5_col1 {\n",
       "            background-color:  white;\n",
       "        }    #T_fe3358e1_a979_11e8_aa90_7c5cf837b144row5_col2 {\n",
       "            background-color:  yellow;\n",
       "        }    #T_fe3358e1_a979_11e8_aa90_7c5cf837b144row6_col0 {\n",
       "            background-color:  white;\n",
       "        }    #T_fe3358e1_a979_11e8_aa90_7c5cf837b144row6_col1 {\n",
       "            background-color:  white;\n",
       "        }    #T_fe3358e1_a979_11e8_aa90_7c5cf837b144row6_col2 {\n",
       "            background-color:  yellow;\n",
       "        }</style>  \n",
       "<table id=\"T_fe3358e1_a979_11e8_aa90_7c5cf837b144\" > \n",
       "<thead>    <tr> \n",
       "        <th class=\"blank level0\" ></th> \n",
       "        <th class=\"col_heading level0 col0\" >customer</th> \n",
       "        <th class=\"col_heading level0 col1\" >orderid</th> \n",
       "        <th class=\"col_heading level0 col2\" >product</th> \n",
       "    </tr></thead> \n",
       "<tbody>    <tr> \n",
       "        <th id=\"T_fe3358e1_a979_11e8_aa90_7c5cf837b144level0_row0\" class=\"row_heading level0 row0\" >0</th> \n",
       "        <td id=\"T_fe3358e1_a979_11e8_aa90_7c5cf837b144row0_col0\" class=\"data row0 col0\" >Oliver</td> \n",
       "        <td id=\"T_fe3358e1_a979_11e8_aa90_7c5cf837b144row0_col1\" class=\"data row0 col1\" >10</td> \n",
       "        <td id=\"T_fe3358e1_a979_11e8_aa90_7c5cf837b144row0_col2\" class=\"data row0 col2\" >mayo</td> \n",
       "    </tr>    <tr> \n",
       "        <th id=\"T_fe3358e1_a979_11e8_aa90_7c5cf837b144level0_row1\" class=\"row_heading level0 row1\" >1</th> \n",
       "        <td id=\"T_fe3358e1_a979_11e8_aa90_7c5cf837b144row1_col0\" class=\"data row1 col0\" >Oliver</td> \n",
       "        <td id=\"T_fe3358e1_a979_11e8_aa90_7c5cf837b144row1_col1\" class=\"data row1 col1\" >10</td> \n",
       "        <td id=\"T_fe3358e1_a979_11e8_aa90_7c5cf837b144row1_col2\" class=\"data row1 col2\" >cashews</td> \n",
       "    </tr>    <tr> \n",
       "        <th id=\"T_fe3358e1_a979_11e8_aa90_7c5cf837b144level0_row2\" class=\"row_heading level0 row2\" >2</th> \n",
       "        <td id=\"T_fe3358e1_a979_11e8_aa90_7c5cf837b144row2_col0\" class=\"data row2 col0\" >Oliver</td> \n",
       "        <td id=\"T_fe3358e1_a979_11e8_aa90_7c5cf837b144row2_col1\" class=\"data row2 col1\" >10</td> \n",
       "        <td id=\"T_fe3358e1_a979_11e8_aa90_7c5cf837b144row2_col2\" class=\"data row2 col2\" >tea</td> \n",
       "    </tr>    <tr> \n",
       "        <th id=\"T_fe3358e1_a979_11e8_aa90_7c5cf837b144level0_row3\" class=\"row_heading level0 row3\" >3</th> \n",
       "        <td id=\"T_fe3358e1_a979_11e8_aa90_7c5cf837b144row3_col0\" class=\"data row3 col0\" >Oliver</td> \n",
       "        <td id=\"T_fe3358e1_a979_11e8_aa90_7c5cf837b144row3_col1\" class=\"data row3 col1\" >11</td> \n",
       "        <td id=\"T_fe3358e1_a979_11e8_aa90_7c5cf837b144row3_col2\" class=\"data row3 col2\" >mustard</td> \n",
       "    </tr>    <tr> \n",
       "        <th id=\"T_fe3358e1_a979_11e8_aa90_7c5cf837b144level0_row4\" class=\"row_heading level0 row4\" >4</th> \n",
       "        <td id=\"T_fe3358e1_a979_11e8_aa90_7c5cf837b144row4_col0\" class=\"data row4 col0\" >Loretta</td> \n",
       "        <td id=\"T_fe3358e1_a979_11e8_aa90_7c5cf837b144row4_col1\" class=\"data row4 col1\" >12</td> \n",
       "        <td id=\"T_fe3358e1_a979_11e8_aa90_7c5cf837b144row4_col2\" class=\"data row4 col2\" >mayo</td> \n",
       "    </tr>    <tr> \n",
       "        <th id=\"T_fe3358e1_a979_11e8_aa90_7c5cf837b144level0_row5\" class=\"row_heading level0 row5\" >5</th> \n",
       "        <td id=\"T_fe3358e1_a979_11e8_aa90_7c5cf837b144row5_col0\" class=\"data row5 col0\" >Loretta</td> \n",
       "        <td id=\"T_fe3358e1_a979_11e8_aa90_7c5cf837b144row5_col1\" class=\"data row5 col1\" >12</td> \n",
       "        <td id=\"T_fe3358e1_a979_11e8_aa90_7c5cf837b144row5_col2\" class=\"data row5 col2\" >cashews</td> \n",
       "    </tr>    <tr> \n",
       "        <th id=\"T_fe3358e1_a979_11e8_aa90_7c5cf837b144level0_row6\" class=\"row_heading level0 row6\" >6</th> \n",
       "        <td id=\"T_fe3358e1_a979_11e8_aa90_7c5cf837b144row6_col0\" class=\"data row6 col0\" >Sofia</td> \n",
       "        <td id=\"T_fe3358e1_a979_11e8_aa90_7c5cf837b144row6_col1\" class=\"data row6 col1\" >13</td> \n",
       "        <td id=\"T_fe3358e1_a979_11e8_aa90_7c5cf837b144row6_col2\" class=\"data row6 col2\" >mayo</td> \n",
       "    </tr></tbody> \n",
       "</table> "
      ],
      "text/plain": [
       "<pandas.io.formats.style.Styler at 0x7f79595af4a8>"
      ]
     },
     "execution_count": 7,
     "metadata": {},
     "output_type": "execute_result"
    }
   ],
   "source": [
    "dft = df.style.apply(highlight_cond, cond='colproduct')\n",
    "dft"
   ]
  },
  {
   "cell_type": "markdown",
   "metadata": {
    "slideshow": {
     "slide_type": "subslide"
    }
   },
   "source": [
    "# Why are these operations in Pandas fast?"
   ]
  },
  {
   "cell_type": "markdown",
   "metadata": {
    "slideshow": {
     "slide_type": "fragment"
    }
   },
   "source": [
    "# C++!"
   ]
  },
  {
   "cell_type": "code",
   "execution_count": 8,
   "metadata": {
    "slideshow": {
     "slide_type": "fragment"
    }
   },
   "outputs": [
    {
     "name": "stdout",
     "output_type": "stream",
     "text": [
      "Here, everything happens in C++:  3\n",
      "Here, everything happens in Python:  3\n"
     ]
    }
   ],
   "source": [
    "import pandas as pd\n",
    "df = pd.read_csv(demofile)\n",
    "\n",
    "print(\"Here, everything happens in C++: \", df.customer.nunique())\n",
    "print(\"Here, everything happens in Python: \", len(set(df.customer)))"
   ]
  },
  {
   "cell_type": "markdown",
   "metadata": {
    "slideshow": {
     "slide_type": "slide"
    }
   },
   "source": [
    "# Let's do a harder question,\n",
    "\n",
    "How many customers order mayo and then mustard in their next order?"
   ]
  },
  {
   "cell_type": "code",
   "execution_count": 9,
   "metadata": {
    "slideshow": {
     "slide_type": "fragment"
    }
   },
   "outputs": [
    {
     "data": {
      "text/html": [
       "<div>\n",
       "<style scoped>\n",
       "    .dataframe tbody tr th:only-of-type {\n",
       "        vertical-align: middle;\n",
       "    }\n",
       "\n",
       "    .dataframe tbody tr th {\n",
       "        vertical-align: top;\n",
       "    }\n",
       "\n",
       "    .dataframe thead th {\n",
       "        text-align: right;\n",
       "    }\n",
       "</style>\n",
       "<table border=\"1\" class=\"dataframe\">\n",
       "  <thead>\n",
       "    <tr style=\"text-align: right;\">\n",
       "      <th></th>\n",
       "      <th>customer</th>\n",
       "      <th>orderid</th>\n",
       "      <th>product</th>\n",
       "    </tr>\n",
       "  </thead>\n",
       "  <tbody>\n",
       "    <tr>\n",
       "      <th>0</th>\n",
       "      <td>Oliver</td>\n",
       "      <td>10</td>\n",
       "      <td>mayo</td>\n",
       "    </tr>\n",
       "    <tr>\n",
       "      <th>1</th>\n",
       "      <td>Oliver</td>\n",
       "      <td>10</td>\n",
       "      <td>cashews</td>\n",
       "    </tr>\n",
       "    <tr>\n",
       "      <th>2</th>\n",
       "      <td>Oliver</td>\n",
       "      <td>10</td>\n",
       "      <td>tea</td>\n",
       "    </tr>\n",
       "    <tr>\n",
       "      <th>3</th>\n",
       "      <td>Oliver</td>\n",
       "      <td>11</td>\n",
       "      <td>mustard</td>\n",
       "    </tr>\n",
       "    <tr>\n",
       "      <th>4</th>\n",
       "      <td>Loretta</td>\n",
       "      <td>12</td>\n",
       "      <td>mayo</td>\n",
       "    </tr>\n",
       "    <tr>\n",
       "      <th>5</th>\n",
       "      <td>Loretta</td>\n",
       "      <td>12</td>\n",
       "      <td>cashews</td>\n",
       "    </tr>\n",
       "    <tr>\n",
       "      <th>6</th>\n",
       "      <td>Sofia</td>\n",
       "      <td>13</td>\n",
       "      <td>mayo</td>\n",
       "    </tr>\n",
       "  </tbody>\n",
       "</table>\n",
       "</div>"
      ],
      "text/plain": [
       "  customer  orderid  product\n",
       "0   Oliver       10     mayo\n",
       "1   Oliver       10  cashews\n",
       "2   Oliver       10      tea\n",
       "3   Oliver       11  mustard\n",
       "4  Loretta       12     mayo\n",
       "5  Loretta       12  cashews\n",
       "6    Sofia       13     mayo"
      ]
     },
     "metadata": {},
     "output_type": "display_data"
    }
   ],
   "source": [
    "# With demofile\n",
    "display(pd.read_csv(demofile))"
   ]
  },
  {
   "cell_type": "code",
   "execution_count": null,
   "metadata": {
    "slideshow": {
     "slide_type": "slide"
    }
   },
   "outputs": [],
   "source": [
    "# Base Python\n",
    "# Start with data as a list of dictionaries with keys customer, orderid, product\n",
    "\n",
    "# NO WORKING SOLUTION\n",
    "\n",
    "from collections import OrderedDict\n",
    "\n",
    "customerids = set([row['customer'] for row in data])\n",
    "data_by_customer = {customer: OrderedDict() for customer in customers}\n",
    "\n",
    "for row in data:\n",
    "    if len(data_by_customer[row['customer']]) == 0:\n",
    "        pass\n",
    "        \n",
    "\n",
    "for index, row in data_by_customer.items():\n",
    "    print(index, row)\n",
    "# for row in data:\n",
    "#     new_row = dict(productmayo='mayo' in row['product'],\n",
    "#                    productmustard='mustard' in row['product'])\n",
    "#     data_by_customer[row['customer']][row['orderid']].append(new_row)\n",
    "    \n",
    "# count_mayo_then_mustard = 0\n",
    "# for customerid, order_dict in data_by_customer.items():\n",
    "#     print(\"processing customer\", customer)\n",
    "#     for index, order in enumerate(rows):\n",
    "#         print(\"+\"*10)\n",
    "#         print(index, order)\n",
    "#         if index > 0:\n",
    "#             if order['productmustard'] and rows[index]['productmustard']:\n",
    "#                 count_mayo_then_mustard += 1\n",
    "\n",
    "# print(count_mayo_then_mustard, \" Customers ordered mayo then mustard\")\n",
    "    "
   ]
  },
  {
   "cell_type": "markdown",
   "metadata": {
    "slideshow": {
     "slide_type": "subslide"
    }
   },
   "source": [
    "Doing this in base Python is a hard problem\n",
    "\n",
    "1. Custom transformations require unit tests for robustness\n",
    "2. Going to be slow\n",
    "3. This is a trivial question. I have hundreds of questions like this."
   ]
  },
  {
   "cell_type": "markdown",
   "metadata": {
    "slideshow": {
     "slide_type": "subslide"
    }
   },
   "source": [
    "# In Pandas"
   ]
  },
  {
   "cell_type": "code",
   "execution_count": 10,
   "metadata": {
    "slideshow": {
     "slide_type": "subslide"
    }
   },
   "outputs": [
    {
     "name": "stdout",
     "output_type": "stream",
     "text": [
      "Customer count:  1\n"
     ]
    }
   ],
   "source": [
    "import pandas as pd\n",
    "df = pd.read_csv(demofile)\n",
    "\n",
    "df['mayo_in_order'] = (\n",
    "    df.groupby('orderid').product.transform(lambda grp: 'mayo' in grp.values))\n",
    "df['mustard_in_order'] = (\n",
    "    df.groupby('orderid').product.transform(lambda grp: 'mustard' in grp.values))\n",
    "\n",
    "df['mayo_in_order_shifted'] = df.mayo_in_order.shift(1)\n",
    "df['customer_shifted'] = df.customer.shift(1)\n",
    "df['orderid_shifted'] = df.orderid.shift(1)\n",
    "\n",
    "count_of_customers = (\n",
    "    df[(df.mayo_in_order_shifted & df.mustard_in_order) &\n",
    "       (df.customer == df.customer_shifted) &\n",
    "       (df.orderid != df.orderid_shifted)]\n",
    "    .customer.nunique())\n",
    "\n",
    "print(\"Customer count: \", count_of_customers)"
   ]
  },
  {
   "cell_type": "code",
   "execution_count": 11,
   "metadata": {
    "slideshow": {
     "slide_type": "subslide"
    }
   },
   "outputs": [
    {
     "data": {
      "text/html": [
       "<style  type=\"text/css\" >\n",
       "    #T_03673746_a97a_11e8_aa90_7c5cf837b144row0_col0 {\n",
       "            background-color:  white;\n",
       "        }    #T_03673746_a97a_11e8_aa90_7c5cf837b144row0_col1 {\n",
       "            background-color:  white;\n",
       "        }    #T_03673746_a97a_11e8_aa90_7c5cf837b144row0_col2 {\n",
       "            background-color:  white;\n",
       "        }    #T_03673746_a97a_11e8_aa90_7c5cf837b144row0_col3 {\n",
       "            background-color:  white;\n",
       "        }    #T_03673746_a97a_11e8_aa90_7c5cf837b144row0_col4 {\n",
       "            background-color:  white;\n",
       "        }    #T_03673746_a97a_11e8_aa90_7c5cf837b144row0_col5 {\n",
       "            background-color:  white;\n",
       "        }    #T_03673746_a97a_11e8_aa90_7c5cf837b144row1_col0 {\n",
       "            background-color:  white;\n",
       "        }    #T_03673746_a97a_11e8_aa90_7c5cf837b144row1_col1 {\n",
       "            background-color:  white;\n",
       "        }    #T_03673746_a97a_11e8_aa90_7c5cf837b144row1_col2 {\n",
       "            background-color:  white;\n",
       "        }    #T_03673746_a97a_11e8_aa90_7c5cf837b144row1_col3 {\n",
       "            background-color:  white;\n",
       "        }    #T_03673746_a97a_11e8_aa90_7c5cf837b144row1_col4 {\n",
       "            background-color:  white;\n",
       "        }    #T_03673746_a97a_11e8_aa90_7c5cf837b144row1_col5 {\n",
       "            background-color:  white;\n",
       "        }    #T_03673746_a97a_11e8_aa90_7c5cf837b144row2_col0 {\n",
       "            background-color:  white;\n",
       "        }    #T_03673746_a97a_11e8_aa90_7c5cf837b144row2_col1 {\n",
       "            background-color:  white;\n",
       "        }    #T_03673746_a97a_11e8_aa90_7c5cf837b144row2_col2 {\n",
       "            background-color:  white;\n",
       "        }    #T_03673746_a97a_11e8_aa90_7c5cf837b144row2_col3 {\n",
       "            background-color:  white;\n",
       "        }    #T_03673746_a97a_11e8_aa90_7c5cf837b144row2_col4 {\n",
       "            background-color:  white;\n",
       "        }    #T_03673746_a97a_11e8_aa90_7c5cf837b144row2_col5 {\n",
       "            background-color:  white;\n",
       "        }    #T_03673746_a97a_11e8_aa90_7c5cf837b144row3_col0 {\n",
       "            background-color:  yellow;\n",
       "        }    #T_03673746_a97a_11e8_aa90_7c5cf837b144row3_col1 {\n",
       "            background-color:  yellow;\n",
       "        }    #T_03673746_a97a_11e8_aa90_7c5cf837b144row3_col2 {\n",
       "            background-color:  yellow;\n",
       "        }    #T_03673746_a97a_11e8_aa90_7c5cf837b144row3_col3 {\n",
       "            background-color:  yellow;\n",
       "        }    #T_03673746_a97a_11e8_aa90_7c5cf837b144row3_col4 {\n",
       "            background-color:  yellow;\n",
       "        }    #T_03673746_a97a_11e8_aa90_7c5cf837b144row3_col5 {\n",
       "            background-color:  yellow;\n",
       "        }    #T_03673746_a97a_11e8_aa90_7c5cf837b144row4_col0 {\n",
       "            background-color:  white;\n",
       "        }    #T_03673746_a97a_11e8_aa90_7c5cf837b144row4_col1 {\n",
       "            background-color:  white;\n",
       "        }    #T_03673746_a97a_11e8_aa90_7c5cf837b144row4_col2 {\n",
       "            background-color:  white;\n",
       "        }    #T_03673746_a97a_11e8_aa90_7c5cf837b144row4_col3 {\n",
       "            background-color:  white;\n",
       "        }    #T_03673746_a97a_11e8_aa90_7c5cf837b144row4_col4 {\n",
       "            background-color:  white;\n",
       "        }    #T_03673746_a97a_11e8_aa90_7c5cf837b144row4_col5 {\n",
       "            background-color:  white;\n",
       "        }    #T_03673746_a97a_11e8_aa90_7c5cf837b144row5_col0 {\n",
       "            background-color:  white;\n",
       "        }    #T_03673746_a97a_11e8_aa90_7c5cf837b144row5_col1 {\n",
       "            background-color:  white;\n",
       "        }    #T_03673746_a97a_11e8_aa90_7c5cf837b144row5_col2 {\n",
       "            background-color:  white;\n",
       "        }    #T_03673746_a97a_11e8_aa90_7c5cf837b144row5_col3 {\n",
       "            background-color:  white;\n",
       "        }    #T_03673746_a97a_11e8_aa90_7c5cf837b144row5_col4 {\n",
       "            background-color:  white;\n",
       "        }    #T_03673746_a97a_11e8_aa90_7c5cf837b144row5_col5 {\n",
       "            background-color:  white;\n",
       "        }    #T_03673746_a97a_11e8_aa90_7c5cf837b144row6_col0 {\n",
       "            background-color:  white;\n",
       "        }    #T_03673746_a97a_11e8_aa90_7c5cf837b144row6_col1 {\n",
       "            background-color:  white;\n",
       "        }    #T_03673746_a97a_11e8_aa90_7c5cf837b144row6_col2 {\n",
       "            background-color:  white;\n",
       "        }    #T_03673746_a97a_11e8_aa90_7c5cf837b144row6_col3 {\n",
       "            background-color:  white;\n",
       "        }    #T_03673746_a97a_11e8_aa90_7c5cf837b144row6_col4 {\n",
       "            background-color:  white;\n",
       "        }    #T_03673746_a97a_11e8_aa90_7c5cf837b144row6_col5 {\n",
       "            background-color:  white;\n",
       "        }</style>  \n",
       "<table id=\"T_03673746_a97a_11e8_aa90_7c5cf837b144\" > \n",
       "<thead>    <tr> \n",
       "        <th class=\"blank level0\" ></th> \n",
       "        <th class=\"col_heading level0 col0\" >customer</th> \n",
       "        <th class=\"col_heading level0 col1\" >customer_shifted</th> \n",
       "        <th class=\"col_heading level0 col2\" >orderid</th> \n",
       "        <th class=\"col_heading level0 col3\" >orderid_shifted</th> \n",
       "        <th class=\"col_heading level0 col4\" >mustard_in_order</th> \n",
       "        <th class=\"col_heading level0 col5\" >mayo_in_order_shifted</th> \n",
       "    </tr></thead> \n",
       "<tbody>    <tr> \n",
       "        <th id=\"T_03673746_a97a_11e8_aa90_7c5cf837b144level0_row0\" class=\"row_heading level0 row0\" >0</th> \n",
       "        <td id=\"T_03673746_a97a_11e8_aa90_7c5cf837b144row0_col0\" class=\"data row0 col0\" >Oliver</td> \n",
       "        <td id=\"T_03673746_a97a_11e8_aa90_7c5cf837b144row0_col1\" class=\"data row0 col1\" >nan</td> \n",
       "        <td id=\"T_03673746_a97a_11e8_aa90_7c5cf837b144row0_col2\" class=\"data row0 col2\" >10</td> \n",
       "        <td id=\"T_03673746_a97a_11e8_aa90_7c5cf837b144row0_col3\" class=\"data row0 col3\" >nan</td> \n",
       "        <td id=\"T_03673746_a97a_11e8_aa90_7c5cf837b144row0_col4\" class=\"data row0 col4\" >False</td> \n",
       "        <td id=\"T_03673746_a97a_11e8_aa90_7c5cf837b144row0_col5\" class=\"data row0 col5\" >nan</td> \n",
       "    </tr>    <tr> \n",
       "        <th id=\"T_03673746_a97a_11e8_aa90_7c5cf837b144level0_row1\" class=\"row_heading level0 row1\" >1</th> \n",
       "        <td id=\"T_03673746_a97a_11e8_aa90_7c5cf837b144row1_col0\" class=\"data row1 col0\" >Oliver</td> \n",
       "        <td id=\"T_03673746_a97a_11e8_aa90_7c5cf837b144row1_col1\" class=\"data row1 col1\" >Oliver</td> \n",
       "        <td id=\"T_03673746_a97a_11e8_aa90_7c5cf837b144row1_col2\" class=\"data row1 col2\" >10</td> \n",
       "        <td id=\"T_03673746_a97a_11e8_aa90_7c5cf837b144row1_col3\" class=\"data row1 col3\" >10</td> \n",
       "        <td id=\"T_03673746_a97a_11e8_aa90_7c5cf837b144row1_col4\" class=\"data row1 col4\" >False</td> \n",
       "        <td id=\"T_03673746_a97a_11e8_aa90_7c5cf837b144row1_col5\" class=\"data row1 col5\" >True</td> \n",
       "    </tr>    <tr> \n",
       "        <th id=\"T_03673746_a97a_11e8_aa90_7c5cf837b144level0_row2\" class=\"row_heading level0 row2\" >2</th> \n",
       "        <td id=\"T_03673746_a97a_11e8_aa90_7c5cf837b144row2_col0\" class=\"data row2 col0\" >Oliver</td> \n",
       "        <td id=\"T_03673746_a97a_11e8_aa90_7c5cf837b144row2_col1\" class=\"data row2 col1\" >Oliver</td> \n",
       "        <td id=\"T_03673746_a97a_11e8_aa90_7c5cf837b144row2_col2\" class=\"data row2 col2\" >10</td> \n",
       "        <td id=\"T_03673746_a97a_11e8_aa90_7c5cf837b144row2_col3\" class=\"data row2 col3\" >10</td> \n",
       "        <td id=\"T_03673746_a97a_11e8_aa90_7c5cf837b144row2_col4\" class=\"data row2 col4\" >False</td> \n",
       "        <td id=\"T_03673746_a97a_11e8_aa90_7c5cf837b144row2_col5\" class=\"data row2 col5\" >True</td> \n",
       "    </tr>    <tr> \n",
       "        <th id=\"T_03673746_a97a_11e8_aa90_7c5cf837b144level0_row3\" class=\"row_heading level0 row3\" >3</th> \n",
       "        <td id=\"T_03673746_a97a_11e8_aa90_7c5cf837b144row3_col0\" class=\"data row3 col0\" >Oliver</td> \n",
       "        <td id=\"T_03673746_a97a_11e8_aa90_7c5cf837b144row3_col1\" class=\"data row3 col1\" >Oliver</td> \n",
       "        <td id=\"T_03673746_a97a_11e8_aa90_7c5cf837b144row3_col2\" class=\"data row3 col2\" >11</td> \n",
       "        <td id=\"T_03673746_a97a_11e8_aa90_7c5cf837b144row3_col3\" class=\"data row3 col3\" >10</td> \n",
       "        <td id=\"T_03673746_a97a_11e8_aa90_7c5cf837b144row3_col4\" class=\"data row3 col4\" >True</td> \n",
       "        <td id=\"T_03673746_a97a_11e8_aa90_7c5cf837b144row3_col5\" class=\"data row3 col5\" >True</td> \n",
       "    </tr>    <tr> \n",
       "        <th id=\"T_03673746_a97a_11e8_aa90_7c5cf837b144level0_row4\" class=\"row_heading level0 row4\" >4</th> \n",
       "        <td id=\"T_03673746_a97a_11e8_aa90_7c5cf837b144row4_col0\" class=\"data row4 col0\" >Loretta</td> \n",
       "        <td id=\"T_03673746_a97a_11e8_aa90_7c5cf837b144row4_col1\" class=\"data row4 col1\" >Oliver</td> \n",
       "        <td id=\"T_03673746_a97a_11e8_aa90_7c5cf837b144row4_col2\" class=\"data row4 col2\" >12</td> \n",
       "        <td id=\"T_03673746_a97a_11e8_aa90_7c5cf837b144row4_col3\" class=\"data row4 col3\" >11</td> \n",
       "        <td id=\"T_03673746_a97a_11e8_aa90_7c5cf837b144row4_col4\" class=\"data row4 col4\" >False</td> \n",
       "        <td id=\"T_03673746_a97a_11e8_aa90_7c5cf837b144row4_col5\" class=\"data row4 col5\" >False</td> \n",
       "    </tr>    <tr> \n",
       "        <th id=\"T_03673746_a97a_11e8_aa90_7c5cf837b144level0_row5\" class=\"row_heading level0 row5\" >5</th> \n",
       "        <td id=\"T_03673746_a97a_11e8_aa90_7c5cf837b144row5_col0\" class=\"data row5 col0\" >Loretta</td> \n",
       "        <td id=\"T_03673746_a97a_11e8_aa90_7c5cf837b144row5_col1\" class=\"data row5 col1\" >Loretta</td> \n",
       "        <td id=\"T_03673746_a97a_11e8_aa90_7c5cf837b144row5_col2\" class=\"data row5 col2\" >12</td> \n",
       "        <td id=\"T_03673746_a97a_11e8_aa90_7c5cf837b144row5_col3\" class=\"data row5 col3\" >12</td> \n",
       "        <td id=\"T_03673746_a97a_11e8_aa90_7c5cf837b144row5_col4\" class=\"data row5 col4\" >False</td> \n",
       "        <td id=\"T_03673746_a97a_11e8_aa90_7c5cf837b144row5_col5\" class=\"data row5 col5\" >True</td> \n",
       "    </tr>    <tr> \n",
       "        <th id=\"T_03673746_a97a_11e8_aa90_7c5cf837b144level0_row6\" class=\"row_heading level0 row6\" >6</th> \n",
       "        <td id=\"T_03673746_a97a_11e8_aa90_7c5cf837b144row6_col0\" class=\"data row6 col0\" >Sofia</td> \n",
       "        <td id=\"T_03673746_a97a_11e8_aa90_7c5cf837b144row6_col1\" class=\"data row6 col1\" >Loretta</td> \n",
       "        <td id=\"T_03673746_a97a_11e8_aa90_7c5cf837b144row6_col2\" class=\"data row6 col2\" >13</td> \n",
       "        <td id=\"T_03673746_a97a_11e8_aa90_7c5cf837b144row6_col3\" class=\"data row6 col3\" >12</td> \n",
       "        <td id=\"T_03673746_a97a_11e8_aa90_7c5cf837b144row6_col4\" class=\"data row6 col4\" >False</td> \n",
       "        <td id=\"T_03673746_a97a_11e8_aa90_7c5cf837b144row6_col5\" class=\"data row6 col5\" >True</td> \n",
       "    </tr></tbody> \n",
       "</table> "
      ],
      "text/plain": [
       "<pandas.io.formats.style.Styler at 0x7f79595322e8>"
      ]
     },
     "metadata": {},
     "output_type": "display_data"
    }
   ],
   "source": [
    "dft = (df[['customer', 'customer_shifted', 'orderid', \n",
    "           'orderid_shifted', 'mustard_in_order', 'mayo_in_order_shifted']]\n",
    "       .style.apply(highlight_cond, cond='row3', axis=1))\n",
    "display(dft)"
   ]
  },
  {
   "cell_type": "markdown",
   "metadata": {
    "slideshow": {
     "slide_type": "subslide"
    }
   },
   "source": [
    "### This solution in Pandas is \n",
    "1. Fast - Once you make a DataFrame Pandas is just C++ under the hood\n",
    "2. Scalable - Will work quickly on a 10 GB file.\n",
    "3. Memory efficient - As long as the data fits into memory, this will work quickly\n",
    "4. Has extendable concepts"
   ]
  },
  {
   "cell_type": "markdown",
   "metadata": {
    "slideshow": {
     "slide_type": "fragment"
    }
   },
   "source": [
    "### This same algorithm\n",
    "* can be applied in other frameworks\n",
    "* run across datasets in the TB range\n",
    "* and still be a performant algorithm"
   ]
  },
  {
   "cell_type": "markdown",
   "metadata": {
    "slideshow": {
     "slide_type": "slide"
    }
   },
   "source": [
    "# Big Data Dataframe Technologies\n",
    "1. Spark\n",
    "2. Dask\n",
    "\n",
    "## Benefits\n",
    "* Data Frames\n",
    "* Testable\n",
    "* Easy to read\n",
    "* Advanced transformations\n",
    "* Fast Development\n",
    "* Easy to run locally or as a distributed process\n",
    "\n",
    "## Detriments\n",
    "* Lower execution time compared to custom transformations\n",
    "* Higher ramp up time compared to SQL"
   ]
  },
  {
   "cell_type": "markdown",
   "metadata": {
    "slideshow": {
     "slide_type": "subslide"
    }
   },
   "source": [
    "# Why are Dask and Spark fast?\n",
    "\n",
    "## Dask is fast because \n",
    "* Everything happens in C++\n",
    "* Leverages multiple processors\n",
    "* Can run on multiple machines\n",
    "\n",
    "## Spark is fast because\n",
    "* Everything happens in Java\n",
    "* Leverages multiple machines"
   ]
  },
  {
   "cell_type": "markdown",
   "metadata": {
    "slideshow": {
     "slide_type": "slide"
    }
   },
   "source": [
    "# Let's do the above examples in Spark and Dask\n",
    "\n",
    "1. How many customers ordered products?\n",
    "2. On average how many products were ordered per order?"
   ]
  },
  {
   "cell_type": "markdown",
   "metadata": {
    "slideshow": {
     "slide_type": "subslide"
    }
   },
   "source": [
    "# Pandas Solution"
   ]
  },
  {
   "cell_type": "code",
   "execution_count": 12,
   "metadata": {
    "slideshow": {
     "slide_type": "fragment"
    }
   },
   "outputs": [
    {
     "name": "stdout",
     "output_type": "stream",
     "text": [
      "Customer count:  3\n",
      "Average number of items per order 1.75\n"
     ]
    }
   ],
   "source": [
    "import pandas as pd\n",
    "df = pd.read_csv(demofile)\n",
    "\n",
    "print(\"Customer count: \", df.customer.nunique())\n",
    "\n",
    "avg_items_per_order = df.groupby('orderid').size().mean()\n",
    "print(\"Average number of items per order\", avg_items_per_order)"
   ]
  },
  {
   "cell_type": "markdown",
   "metadata": {
    "slideshow": {
     "slide_type": "subslide"
    }
   },
   "source": [
    "# Dask Solution\n",
    "### Note: Dask API is _designed_ to mimic the Pandas API "
   ]
  },
  {
   "cell_type": "code",
   "execution_count": 13,
   "metadata": {
    "slideshow": {
     "slide_type": "fragment"
    }
   },
   "outputs": [
    {
     "name": "stdout",
     "output_type": "stream",
     "text": [
      "Customer count:  3\n",
      "Average number of items per order 1.75\n"
     ]
    }
   ],
   "source": [
    "import dask.dataframe as dd\n",
    "dask_df = dd.read_csv(demofile)\n",
    "\n",
    "print(\"Customer count: \", dask_df.customer.nunique().compute())\n",
    "\n",
    "avg_items_per_order = dask_df.groupby('orderid').size().mean().compute()\n",
    "print(\"Average number of items per order\", avg_items_per_order)"
   ]
  },
  {
   "cell_type": "markdown",
   "metadata": {
    "slideshow": {
     "slide_type": "subslide"
    }
   },
   "source": [
    "# Spark Solution"
   ]
  },
  {
   "cell_type": "code",
   "execution_count": 14,
   "metadata": {
    "slideshow": {
     "slide_type": "skip"
    }
   },
   "outputs": [],
   "source": [
    "import findspark\n",
    "findspark.init('/home/napoleon/Projects/spark-2.3.1-bin-hadoop2.7')\n",
    "\n",
    "from pyspark import SparkContext\n",
    "from pyspark.sql import SQLContext\n",
    "\n",
    "sc = SparkContext('local')\n",
    "sqlContext = SQLContext(sc)"
   ]
  },
  {
   "cell_type": "code",
   "execution_count": 15,
   "metadata": {
    "slideshow": {
     "slide_type": "fragment"
    }
   },
   "outputs": [
    {
     "name": "stdout",
     "output_type": "stream",
     "text": [
      "Customer count:  3\n",
      "+----------+\n",
      "|avg(count)|\n",
      "+----------+\n",
      "|      1.75|\n",
      "+----------+\n",
      "\n"
     ]
    }
   ],
   "source": [
    "# Note: Skipped creation of sqlContext\n",
    "# Read in file\n",
    "spark_df = sqlContext.read.csv(demofile, header=True)\n",
    "\n",
    "customer_count = spark_df.select(\"customer\").distinct().count()\n",
    "print(\"Customer count: \", customer_count)\n",
    "\n",
    "from pyspark.sql.functions import col, avg\n",
    "spark_df.groupby('orderid').count().agg(avg(col(\"count\"))).show()"
   ]
  },
  {
   "cell_type": "markdown",
   "metadata": {
    "slideshow": {
     "slide_type": "slide"
    }
   },
   "source": [
    "How many customers order mayo and then mustard in their next order?"
   ]
  },
  {
   "cell_type": "markdown",
   "metadata": {
    "slideshow": {
     "slide_type": "subslide"
    }
   },
   "source": [
    "# Pandas Solution"
   ]
  },
  {
   "cell_type": "code",
   "execution_count": 16,
   "metadata": {
    "slideshow": {
     "slide_type": "fragment"
    }
   },
   "outputs": [
    {
     "name": "stdout",
     "output_type": "stream",
     "text": [
      "Customer count:  1\n"
     ]
    }
   ],
   "source": [
    "import pandas as pd\n",
    "df = pd.read_csv(demofile)\n",
    "\n",
    "df['mayo_in_order'] = (\n",
    "    df.groupby('orderid').product.transform(lambda grp: 'mayo' in grp.values))\n",
    "df['mustard_in_order'] = (\n",
    "    df.groupby('orderid').product.transform(lambda grp: 'mustard' in grp.values))\n",
    "\n",
    "df['mayo_in_order_shifted'] = df.mayo_in_order.shift(1)\n",
    "df['customer_shifted'] = df.customer.shift(1)\n",
    "df['orderid_shifted'] = df.orderid.shift(1)\n",
    "\n",
    "count_of_customers = (\n",
    "    df[(df.mayo_in_order_shifted & df.mustard_in_order) &\n",
    "       (df.customer == df.customer_shifted) &\n",
    "       (df.orderid != df.orderid_shifted)]\n",
    "    .customer.nunique())\n",
    "\n",
    "print(\"Customer count: \", count_of_customers)"
   ]
  },
  {
   "cell_type": "code",
   "execution_count": 17,
   "metadata": {
    "slideshow": {
     "slide_type": "subslide"
    }
   },
   "outputs": [
    {
     "data": {
      "text/html": [
       "<style  type=\"text/css\" >\n",
       "    #T_0d717418_a97a_11e8_aa90_7c5cf837b144row0_col0 {\n",
       "            background-color:  white;\n",
       "        }    #T_0d717418_a97a_11e8_aa90_7c5cf837b144row0_col1 {\n",
       "            background-color:  white;\n",
       "        }    #T_0d717418_a97a_11e8_aa90_7c5cf837b144row0_col2 {\n",
       "            background-color:  white;\n",
       "        }    #T_0d717418_a97a_11e8_aa90_7c5cf837b144row0_col3 {\n",
       "            background-color:  white;\n",
       "        }    #T_0d717418_a97a_11e8_aa90_7c5cf837b144row0_col4 {\n",
       "            background-color:  white;\n",
       "        }    #T_0d717418_a97a_11e8_aa90_7c5cf837b144row0_col5 {\n",
       "            background-color:  white;\n",
       "        }    #T_0d717418_a97a_11e8_aa90_7c5cf837b144row1_col0 {\n",
       "            background-color:  white;\n",
       "        }    #T_0d717418_a97a_11e8_aa90_7c5cf837b144row1_col1 {\n",
       "            background-color:  white;\n",
       "        }    #T_0d717418_a97a_11e8_aa90_7c5cf837b144row1_col2 {\n",
       "            background-color:  white;\n",
       "        }    #T_0d717418_a97a_11e8_aa90_7c5cf837b144row1_col3 {\n",
       "            background-color:  white;\n",
       "        }    #T_0d717418_a97a_11e8_aa90_7c5cf837b144row1_col4 {\n",
       "            background-color:  white;\n",
       "        }    #T_0d717418_a97a_11e8_aa90_7c5cf837b144row1_col5 {\n",
       "            background-color:  white;\n",
       "        }    #T_0d717418_a97a_11e8_aa90_7c5cf837b144row2_col0 {\n",
       "            background-color:  white;\n",
       "        }    #T_0d717418_a97a_11e8_aa90_7c5cf837b144row2_col1 {\n",
       "            background-color:  white;\n",
       "        }    #T_0d717418_a97a_11e8_aa90_7c5cf837b144row2_col2 {\n",
       "            background-color:  white;\n",
       "        }    #T_0d717418_a97a_11e8_aa90_7c5cf837b144row2_col3 {\n",
       "            background-color:  white;\n",
       "        }    #T_0d717418_a97a_11e8_aa90_7c5cf837b144row2_col4 {\n",
       "            background-color:  white;\n",
       "        }    #T_0d717418_a97a_11e8_aa90_7c5cf837b144row2_col5 {\n",
       "            background-color:  white;\n",
       "        }    #T_0d717418_a97a_11e8_aa90_7c5cf837b144row3_col0 {\n",
       "            background-color:  yellow;\n",
       "        }    #T_0d717418_a97a_11e8_aa90_7c5cf837b144row3_col1 {\n",
       "            background-color:  yellow;\n",
       "        }    #T_0d717418_a97a_11e8_aa90_7c5cf837b144row3_col2 {\n",
       "            background-color:  yellow;\n",
       "        }    #T_0d717418_a97a_11e8_aa90_7c5cf837b144row3_col3 {\n",
       "            background-color:  yellow;\n",
       "        }    #T_0d717418_a97a_11e8_aa90_7c5cf837b144row3_col4 {\n",
       "            background-color:  yellow;\n",
       "        }    #T_0d717418_a97a_11e8_aa90_7c5cf837b144row3_col5 {\n",
       "            background-color:  yellow;\n",
       "        }    #T_0d717418_a97a_11e8_aa90_7c5cf837b144row4_col0 {\n",
       "            background-color:  white;\n",
       "        }    #T_0d717418_a97a_11e8_aa90_7c5cf837b144row4_col1 {\n",
       "            background-color:  white;\n",
       "        }    #T_0d717418_a97a_11e8_aa90_7c5cf837b144row4_col2 {\n",
       "            background-color:  white;\n",
       "        }    #T_0d717418_a97a_11e8_aa90_7c5cf837b144row4_col3 {\n",
       "            background-color:  white;\n",
       "        }    #T_0d717418_a97a_11e8_aa90_7c5cf837b144row4_col4 {\n",
       "            background-color:  white;\n",
       "        }    #T_0d717418_a97a_11e8_aa90_7c5cf837b144row4_col5 {\n",
       "            background-color:  white;\n",
       "        }    #T_0d717418_a97a_11e8_aa90_7c5cf837b144row5_col0 {\n",
       "            background-color:  white;\n",
       "        }    #T_0d717418_a97a_11e8_aa90_7c5cf837b144row5_col1 {\n",
       "            background-color:  white;\n",
       "        }    #T_0d717418_a97a_11e8_aa90_7c5cf837b144row5_col2 {\n",
       "            background-color:  white;\n",
       "        }    #T_0d717418_a97a_11e8_aa90_7c5cf837b144row5_col3 {\n",
       "            background-color:  white;\n",
       "        }    #T_0d717418_a97a_11e8_aa90_7c5cf837b144row5_col4 {\n",
       "            background-color:  white;\n",
       "        }    #T_0d717418_a97a_11e8_aa90_7c5cf837b144row5_col5 {\n",
       "            background-color:  white;\n",
       "        }    #T_0d717418_a97a_11e8_aa90_7c5cf837b144row6_col0 {\n",
       "            background-color:  white;\n",
       "        }    #T_0d717418_a97a_11e8_aa90_7c5cf837b144row6_col1 {\n",
       "            background-color:  white;\n",
       "        }    #T_0d717418_a97a_11e8_aa90_7c5cf837b144row6_col2 {\n",
       "            background-color:  white;\n",
       "        }    #T_0d717418_a97a_11e8_aa90_7c5cf837b144row6_col3 {\n",
       "            background-color:  white;\n",
       "        }    #T_0d717418_a97a_11e8_aa90_7c5cf837b144row6_col4 {\n",
       "            background-color:  white;\n",
       "        }    #T_0d717418_a97a_11e8_aa90_7c5cf837b144row6_col5 {\n",
       "            background-color:  white;\n",
       "        }</style>  \n",
       "<table id=\"T_0d717418_a97a_11e8_aa90_7c5cf837b144\" > \n",
       "<thead>    <tr> \n",
       "        <th class=\"blank level0\" ></th> \n",
       "        <th class=\"col_heading level0 col0\" >customer</th> \n",
       "        <th class=\"col_heading level0 col1\" >customer_shifted</th> \n",
       "        <th class=\"col_heading level0 col2\" >orderid</th> \n",
       "        <th class=\"col_heading level0 col3\" >orderid_shifted</th> \n",
       "        <th class=\"col_heading level0 col4\" >mustard_in_order</th> \n",
       "        <th class=\"col_heading level0 col5\" >mayo_in_order_shifted</th> \n",
       "    </tr></thead> \n",
       "<tbody>    <tr> \n",
       "        <th id=\"T_0d717418_a97a_11e8_aa90_7c5cf837b144level0_row0\" class=\"row_heading level0 row0\" >0</th> \n",
       "        <td id=\"T_0d717418_a97a_11e8_aa90_7c5cf837b144row0_col0\" class=\"data row0 col0\" >Oliver</td> \n",
       "        <td id=\"T_0d717418_a97a_11e8_aa90_7c5cf837b144row0_col1\" class=\"data row0 col1\" >nan</td> \n",
       "        <td id=\"T_0d717418_a97a_11e8_aa90_7c5cf837b144row0_col2\" class=\"data row0 col2\" >10</td> \n",
       "        <td id=\"T_0d717418_a97a_11e8_aa90_7c5cf837b144row0_col3\" class=\"data row0 col3\" >nan</td> \n",
       "        <td id=\"T_0d717418_a97a_11e8_aa90_7c5cf837b144row0_col4\" class=\"data row0 col4\" >False</td> \n",
       "        <td id=\"T_0d717418_a97a_11e8_aa90_7c5cf837b144row0_col5\" class=\"data row0 col5\" >nan</td> \n",
       "    </tr>    <tr> \n",
       "        <th id=\"T_0d717418_a97a_11e8_aa90_7c5cf837b144level0_row1\" class=\"row_heading level0 row1\" >1</th> \n",
       "        <td id=\"T_0d717418_a97a_11e8_aa90_7c5cf837b144row1_col0\" class=\"data row1 col0\" >Oliver</td> \n",
       "        <td id=\"T_0d717418_a97a_11e8_aa90_7c5cf837b144row1_col1\" class=\"data row1 col1\" >Oliver</td> \n",
       "        <td id=\"T_0d717418_a97a_11e8_aa90_7c5cf837b144row1_col2\" class=\"data row1 col2\" >10</td> \n",
       "        <td id=\"T_0d717418_a97a_11e8_aa90_7c5cf837b144row1_col3\" class=\"data row1 col3\" >10</td> \n",
       "        <td id=\"T_0d717418_a97a_11e8_aa90_7c5cf837b144row1_col4\" class=\"data row1 col4\" >False</td> \n",
       "        <td id=\"T_0d717418_a97a_11e8_aa90_7c5cf837b144row1_col5\" class=\"data row1 col5\" >True</td> \n",
       "    </tr>    <tr> \n",
       "        <th id=\"T_0d717418_a97a_11e8_aa90_7c5cf837b144level0_row2\" class=\"row_heading level0 row2\" >2</th> \n",
       "        <td id=\"T_0d717418_a97a_11e8_aa90_7c5cf837b144row2_col0\" class=\"data row2 col0\" >Oliver</td> \n",
       "        <td id=\"T_0d717418_a97a_11e8_aa90_7c5cf837b144row2_col1\" class=\"data row2 col1\" >Oliver</td> \n",
       "        <td id=\"T_0d717418_a97a_11e8_aa90_7c5cf837b144row2_col2\" class=\"data row2 col2\" >10</td> \n",
       "        <td id=\"T_0d717418_a97a_11e8_aa90_7c5cf837b144row2_col3\" class=\"data row2 col3\" >10</td> \n",
       "        <td id=\"T_0d717418_a97a_11e8_aa90_7c5cf837b144row2_col4\" class=\"data row2 col4\" >False</td> \n",
       "        <td id=\"T_0d717418_a97a_11e8_aa90_7c5cf837b144row2_col5\" class=\"data row2 col5\" >True</td> \n",
       "    </tr>    <tr> \n",
       "        <th id=\"T_0d717418_a97a_11e8_aa90_7c5cf837b144level0_row3\" class=\"row_heading level0 row3\" >3</th> \n",
       "        <td id=\"T_0d717418_a97a_11e8_aa90_7c5cf837b144row3_col0\" class=\"data row3 col0\" >Oliver</td> \n",
       "        <td id=\"T_0d717418_a97a_11e8_aa90_7c5cf837b144row3_col1\" class=\"data row3 col1\" >Oliver</td> \n",
       "        <td id=\"T_0d717418_a97a_11e8_aa90_7c5cf837b144row3_col2\" class=\"data row3 col2\" >11</td> \n",
       "        <td id=\"T_0d717418_a97a_11e8_aa90_7c5cf837b144row3_col3\" class=\"data row3 col3\" >10</td> \n",
       "        <td id=\"T_0d717418_a97a_11e8_aa90_7c5cf837b144row3_col4\" class=\"data row3 col4\" >True</td> \n",
       "        <td id=\"T_0d717418_a97a_11e8_aa90_7c5cf837b144row3_col5\" class=\"data row3 col5\" >True</td> \n",
       "    </tr>    <tr> \n",
       "        <th id=\"T_0d717418_a97a_11e8_aa90_7c5cf837b144level0_row4\" class=\"row_heading level0 row4\" >4</th> \n",
       "        <td id=\"T_0d717418_a97a_11e8_aa90_7c5cf837b144row4_col0\" class=\"data row4 col0\" >Loretta</td> \n",
       "        <td id=\"T_0d717418_a97a_11e8_aa90_7c5cf837b144row4_col1\" class=\"data row4 col1\" >Oliver</td> \n",
       "        <td id=\"T_0d717418_a97a_11e8_aa90_7c5cf837b144row4_col2\" class=\"data row4 col2\" >12</td> \n",
       "        <td id=\"T_0d717418_a97a_11e8_aa90_7c5cf837b144row4_col3\" class=\"data row4 col3\" >11</td> \n",
       "        <td id=\"T_0d717418_a97a_11e8_aa90_7c5cf837b144row4_col4\" class=\"data row4 col4\" >False</td> \n",
       "        <td id=\"T_0d717418_a97a_11e8_aa90_7c5cf837b144row4_col5\" class=\"data row4 col5\" >False</td> \n",
       "    </tr>    <tr> \n",
       "        <th id=\"T_0d717418_a97a_11e8_aa90_7c5cf837b144level0_row5\" class=\"row_heading level0 row5\" >5</th> \n",
       "        <td id=\"T_0d717418_a97a_11e8_aa90_7c5cf837b144row5_col0\" class=\"data row5 col0\" >Loretta</td> \n",
       "        <td id=\"T_0d717418_a97a_11e8_aa90_7c5cf837b144row5_col1\" class=\"data row5 col1\" >Loretta</td> \n",
       "        <td id=\"T_0d717418_a97a_11e8_aa90_7c5cf837b144row5_col2\" class=\"data row5 col2\" >12</td> \n",
       "        <td id=\"T_0d717418_a97a_11e8_aa90_7c5cf837b144row5_col3\" class=\"data row5 col3\" >12</td> \n",
       "        <td id=\"T_0d717418_a97a_11e8_aa90_7c5cf837b144row5_col4\" class=\"data row5 col4\" >False</td> \n",
       "        <td id=\"T_0d717418_a97a_11e8_aa90_7c5cf837b144row5_col5\" class=\"data row5 col5\" >True</td> \n",
       "    </tr>    <tr> \n",
       "        <th id=\"T_0d717418_a97a_11e8_aa90_7c5cf837b144level0_row6\" class=\"row_heading level0 row6\" >6</th> \n",
       "        <td id=\"T_0d717418_a97a_11e8_aa90_7c5cf837b144row6_col0\" class=\"data row6 col0\" >Sofia</td> \n",
       "        <td id=\"T_0d717418_a97a_11e8_aa90_7c5cf837b144row6_col1\" class=\"data row6 col1\" >Loretta</td> \n",
       "        <td id=\"T_0d717418_a97a_11e8_aa90_7c5cf837b144row6_col2\" class=\"data row6 col2\" >13</td> \n",
       "        <td id=\"T_0d717418_a97a_11e8_aa90_7c5cf837b144row6_col3\" class=\"data row6 col3\" >12</td> \n",
       "        <td id=\"T_0d717418_a97a_11e8_aa90_7c5cf837b144row6_col4\" class=\"data row6 col4\" >False</td> \n",
       "        <td id=\"T_0d717418_a97a_11e8_aa90_7c5cf837b144row6_col5\" class=\"data row6 col5\" >True</td> \n",
       "    </tr></tbody> \n",
       "</table> "
      ],
      "text/plain": [
       "<pandas.io.formats.style.Styler at 0x7f7931ec9f60>"
      ]
     },
     "metadata": {},
     "output_type": "display_data"
    }
   ],
   "source": [
    "dft = (df[['customer', 'customer_shifted', 'orderid', \n",
    "           'orderid_shifted', 'mustard_in_order', 'mayo_in_order_shifted']]\n",
    "       .style.apply(highlight_cond, cond='row3', axis=1))\n",
    "display(dft)"
   ]
  },
  {
   "cell_type": "markdown",
   "metadata": {
    "slideshow": {
     "slide_type": "subslide"
    }
   },
   "source": [
    "# Dask Solution"
   ]
  },
  {
   "cell_type": "code",
   "execution_count": 18,
   "metadata": {
    "slideshow": {
     "slide_type": "fragment"
    }
   },
   "outputs": [
    {
     "name": "stdout",
     "output_type": "stream",
     "text": [
      "Customer count:  1\n"
     ]
    }
   ],
   "source": [
    "import dask.dataframe as dd\n",
    "dask_df = dd.read_csv(demofile)\n",
    "\n",
    "meta_srs = meta=pd.Series(dtype='bool', name='orderid')\n",
    "mayo_in_order_df = (\n",
    "    dask_df.groupby('orderid').product\n",
    "    .apply(lambda grp: 'mayo' in grp.values, meta=meta_srs).compute())\n",
    "mustard_in_order = (\n",
    "    dask_df.groupby('orderid').product\n",
    "    .apply(lambda grp: 'mustard' in grp.values, meta=meta_srs).compute())\n",
    "\n",
    "dask_df['mayo_in_order'] = dask_df['orderid'].map(mayo_in_order_df)\n",
    "dask_df['mustard_in_order'] = dask_df['orderid'].map(mustard_in_order)\n",
    "\n",
    "dask_df['mayo_in_order_shifted'] = dask_df.mayo_in_order.shift(1).astype(bool)\n",
    "dask_df['customer_shifted'] = dask_df.customer.shift(1)\n",
    "dask_df['orderid_shifted'] = dask_df.orderid.shift(1)\n",
    "\n",
    "count_of_customers = (\n",
    "    dask_df[(dask_df.mayo_in_order_shifted & dask_df.mustard_in_order) & \n",
    "            (dask_df.customer == dask_df.customer_shifted) & \n",
    "            (dask_df.orderid != dask_df.orderid_shifted)]\n",
    "    .customer.nunique().compute())\n",
    "\n",
    "print(\"Customer count: \", count_of_customers)"
   ]
  },
  {
   "cell_type": "markdown",
   "metadata": {
    "slideshow": {
     "slide_type": "subslide"
    }
   },
   "source": [
    "# Spark Solution"
   ]
  },
  {
   "cell_type": "code",
   "execution_count": 19,
   "metadata": {
    "slideshow": {
     "slide_type": "skip"
    }
   },
   "outputs": [],
   "source": [
    "from pyspark.sql.functions import lag, col, lit\n",
    "from pyspark.sql.window import Window\n",
    "\n",
    "def shift(input_df, col_to_shift, shift_amount, fill_val):\n",
    "    \"\"\"\n",
    "    Function to shift a column by n downwards.\n",
    "    May be in-efficient as there is no partitioning involved\n",
    "    Adapted from https://stackoverflow.com/a/34296063/2596363\n",
    "    \"\"\"\n",
    "    \n",
    "    new_col_name = col_to_shift + \"_shifted\"\n",
    "    \n",
    "    input_df = input_df.withColumn(\"noop_col\", lit('noop'))\n",
    "\n",
    "    w = Window().partitionBy().orderBy(col(\"noop_col\"))\n",
    "    input_df = (input_df\n",
    "                .select(\"*\", lag(col_to_shift, count=shift_amount).over(w).alias(new_col_name))\n",
    "                .na.fill(fill_val))\n",
    "\n",
    "    input_df = input_df.drop(\"noop_col\")\n",
    "\n",
    "    return input_df"
   ]
  },
  {
   "cell_type": "code",
   "execution_count": 20,
   "metadata": {
    "slideshow": {
     "slide_type": "fragment"
    }
   },
   "outputs": [],
   "source": [
    "from pyspark.sql.functions import collect_list, col\n",
    "\n",
    "spark_df = sqlContext.read.csv(demofile, header=True)\n",
    "\n",
    "mayo_in_order_df = (spark_df.groupby('orderid').agg(collect_list('product'))\n",
    "     .rdd.map(lambda row: (row[0], 'mayo' in row[1]))\n",
    "    ).toDF([\"orderid\", 'mayo_in_order'])\n",
    "mustard_in_order_df = (spark_df.groupby('orderid').agg(collect_list('product'))\n",
    "     .rdd.map(lambda row: (row[0], 'mustard' in row[1]))\n",
    "    ).toDF([\"orderid\", 'mustard_in_order'])\n",
    "\n",
    "# Do a sort after the join as the order gets discarded during the joins\n",
    "spark_df = (spark_df\n",
    "            .join(mayo_in_order_df, \"orderid\")\n",
    "            .join(mustard_in_order_df, 'orderid')\n",
    "            .sort(col(\"orderid\")))"
   ]
  },
  {
   "cell_type": "code",
   "execution_count": 21,
   "metadata": {
    "slideshow": {
     "slide_type": "subslide"
    }
   },
   "outputs": [
    {
     "name": "stdout",
     "output_type": "stream",
     "text": [
      "Customer count:  1\n"
     ]
    }
   ],
   "source": [
    "# Note: Skipped the implementation of this shift function\n",
    "spark_df = shift(spark_df, \"mayo_in_order\", 1, False)\n",
    "spark_df = shift(spark_df, \"customer\", 1, -1)\n",
    "spark_df = shift(spark_df, \"orderid\", 1, -1)\n",
    "\n",
    "# Count the distinct customers\n",
    "customer_count = (\n",
    "    spark_df.rdd.map(\n",
    "        lambda row: \n",
    "        (row[1], \n",
    "         (row[4] and row[5]) and \n",
    "         (row [1] == row[-2]) and \n",
    "         (row[0] != row[-1])))\n",
    "    .toDF([\"customer\", \"mayo_then_mustard\"])\n",
    "    .filter(col(\"mayo_then_mustard\"))\n",
    "    .select(\"customer\").distinct().count())\n",
    "print(\"Customer count: \", customer_count)"
   ]
  },
  {
   "cell_type": "markdown",
   "metadata": {
    "slideshow": {
     "slide_type": "slide"
    }
   },
   "source": [
    "# Example of Testing Pandas Transformation"
   ]
  },
  {
   "cell_type": "code",
   "execution_count": 22,
   "metadata": {
    "slideshow": {
     "slide_type": "subslide"
    }
   },
   "outputs": [
    {
     "name": "stdout",
     "output_type": "stream",
     "text": [
      "Customer count:  1\n"
     ]
    }
   ],
   "source": [
    "import pandas as pd\n",
    "df = pd.read_csv(demofile)\n",
    "\n",
    "def mayo_then_mustard(df):\n",
    "    df['mayo_in_order'] = (\n",
    "        df.groupby('orderid').product.transform(lambda grp: 'mayo' in grp.values))\n",
    "    df['mustard_in_order'] = (\n",
    "        df.groupby('orderid').product.transform(lambda grp: 'mustard' in grp.values))\n",
    "\n",
    "    df['mayo_in_order_shifted'] = df.mayo_in_order.shift(1)\n",
    "    df['customer_shifted'] = df.customer.shift(1)\n",
    "    df['orderid_shifted'] = df.orderid.shift(1)\n",
    "    \n",
    "    count_of_customers = (\n",
    "        df[(df.mayo_in_order_shifted & df.mustard_in_order) &\n",
    "           (df.customer == df.customer_shifted) &\n",
    "           (df.orderid != df.orderid_shifted)]\n",
    "        .customer.nunique())\n",
    "\n",
    "    return count_of_customers\n",
    "    \n",
    "print(\"Customer count: \", mayo_then_mustard(df))"
   ]
  },
  {
   "cell_type": "code",
   "execution_count": 23,
   "metadata": {
    "slideshow": {
     "slide_type": "subslide"
    }
   },
   "outputs": [],
   "source": [
    "test_df = pd.DataFrame([\n",
    "    dict(customer='Bob', orderid=1, product='mayo'),\n",
    "    dict(customer='Bob', orderid=2, product='mustard'),\n",
    "    dict(customer='Marge', orderid=3, product='mayo'),\n",
    "    dict(customer='Marge', orderid=4, product='mustard'),\n",
    "])\n",
    "\n",
    "actual_count =  mayo_then_mustard(test_df)\n",
    "assert 2 == actual_count, \\\n",
    "    'Expected 2 customers to have mayo then mustard: {}'.format(actual_count)"
   ]
  },
  {
   "cell_type": "markdown",
   "metadata": {
    "slideshow": {
     "slide_type": "slide"
    }
   },
   "source": [
    "# Pandas vs Dask vs Spark\n",
    "\n",
    "They each have their own syntax, but on the whole the algorithm is the same in every system.\n",
    "\n",
    "## What about non-Data Frame technologies?"
   ]
  },
  {
   "cell_type": "markdown",
   "metadata": {
    "slideshow": {
     "slide_type": "subslide"
    }
   },
   "source": [
    "# SQL Technologies\n",
    "1. Hive\n",
    "2. Spark\n",
    "3. Pig\n",
    "4. Athena\n",
    "5. Redshift\n",
    "\n",
    "## Benefits\n",
    "* SQL\n",
    "* Fast Development\n",
    "* Reasonable execution time\n",
    "\n",
    "## Detriments\n",
    "* SQL (yeah, it's here too)\n",
    "* Hard to test\n",
    "* No advanced transformations"
   ]
  },
  {
   "cell_type": "markdown",
   "metadata": {
    "slideshow": {
     "slide_type": "subslide"
    }
   },
   "source": [
    "# Custom Data Transformations\n",
    "1. MapReduce\n",
    "2. Spark\n",
    "3. Scala\n",
    "4. Pig\n",
    "\n",
    "## Benefits\n",
    "* Super Fast Execution time\n",
    "* Testable\n",
    "* Advanced transformations\n",
    "\n",
    "## Detriments\n",
    "* Slow development time because each transformation requires custom code\n",
    "* Significant ramp up time for new engineers\n",
    "* Analysts?"
   ]
  },
  {
   "cell_type": "markdown",
   "metadata": {
    "slideshow": {
     "slide_type": "slide"
    }
   },
   "source": [
    "# Conclusion\n",
    "1. Working with Data Frames makes data-wrangling easier\n",
    "2. Pandas is an easy route to learn how to use Data Frames\n",
    "2. Learning Pandas transformations makes Big Data data-wrangling easier"
   ]
  },
  {
   "cell_type": "markdown",
   "metadata": {
    "slideshow": {
     "slide_type": "slide"
    }
   },
   "source": [
    "# Questions?"
   ]
  }
 ],
 "metadata": {
  "celltoolbar": "Slideshow",
  "kernelspec": {
   "display_name": "conda whypandas v3",
   "language": "python",
   "name": "why_pandas"
  },
  "language_info": {
   "codemirror_mode": {
    "name": "ipython",
    "version": 3
   },
   "file_extension": ".py",
   "mimetype": "text/x-python",
   "name": "python",
   "nbconvert_exporter": "python",
   "pygments_lexer": "ipython3",
   "version": "3.6.5"
  }
 },
 "nbformat": 4,
 "nbformat_minor": 2
}
